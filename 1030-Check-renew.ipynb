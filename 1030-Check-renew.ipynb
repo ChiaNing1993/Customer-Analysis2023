{
 "cells": [
  {
   "cell_type": "code",
   "execution_count": 1,
   "id": "891dbe61",
   "metadata": {
    "scrolled": true
   },
   "outputs": [],
   "source": [
    "import pandas as pd\n",
    "import matplotlib.pyplot as plt\n",
    "import numpy as np\n"
   ]
  },
  {
   "cell_type": "code",
   "execution_count": 2,
   "id": "42ced008",
   "metadata": {},
   "outputs": [],
   "source": [
    "import warnings\n",
    "warnings.filterwarnings('ignore')  # ignore notifications"
   ]
  },
  {
   "cell_type": "code",
   "execution_count": 3,
   "id": "5ac2ad56",
   "metadata": {},
   "outputs": [],
   "source": [
    "# Read data from csv\n",
    "data = pd.read_csv('../Costumer analysis/marketing_campaign.csv.xls', sep='\\t')"
   ]
  },
  {
   "cell_type": "code",
   "execution_count": 4,
   "id": "ac695e59",
   "metadata": {},
   "outputs": [
    {
     "data": {
      "text/plain": [
       "<bound method DataFrame.info of          ID  Year_Birth   Education Marital_Status   Income  Kidhome  \\\n",
       "0      5524        1957  Graduation         Single  58138.0        0   \n",
       "1      2174        1954  Graduation         Single  46344.0        1   \n",
       "2      4141        1965  Graduation       Together  71613.0        0   \n",
       "3      6182        1984  Graduation       Together  26646.0        1   \n",
       "4      5324        1981         PhD        Married  58293.0        1   \n",
       "...     ...         ...         ...            ...      ...      ...   \n",
       "2235  10870        1967  Graduation        Married  61223.0        0   \n",
       "2236   4001        1946         PhD       Together  64014.0        2   \n",
       "2237   7270        1981  Graduation       Divorced  56981.0        0   \n",
       "2238   8235        1956      Master       Together  69245.0        0   \n",
       "2239   9405        1954         PhD        Married  52869.0        1   \n",
       "\n",
       "      Teenhome Dt_Customer  Recency  MntWines  ...  NumWebVisitsMonth  \\\n",
       "0            0  04-09-2012       58       635  ...                  7   \n",
       "1            1  08-03-2014       38        11  ...                  5   \n",
       "2            0  21-08-2013       26       426  ...                  4   \n",
       "3            0  10-02-2014       26        11  ...                  6   \n",
       "4            0  19-01-2014       94       173  ...                  5   \n",
       "...        ...         ...      ...       ...  ...                ...   \n",
       "2235         1  13-06-2013       46       709  ...                  5   \n",
       "2236         1  10-06-2014       56       406  ...                  7   \n",
       "2237         0  25-01-2014       91       908  ...                  6   \n",
       "2238         1  24-01-2014        8       428  ...                  3   \n",
       "2239         1  15-10-2012       40        84  ...                  7   \n",
       "\n",
       "      AcceptedCmp3  AcceptedCmp4  AcceptedCmp5  AcceptedCmp1  AcceptedCmp2  \\\n",
       "0                0             0             0             0             0   \n",
       "1                0             0             0             0             0   \n",
       "2                0             0             0             0             0   \n",
       "3                0             0             0             0             0   \n",
       "4                0             0             0             0             0   \n",
       "...            ...           ...           ...           ...           ...   \n",
       "2235             0             0             0             0             0   \n",
       "2236             0             0             0             1             0   \n",
       "2237             0             1             0             0             0   \n",
       "2238             0             0             0             0             0   \n",
       "2239             0             0             0             0             0   \n",
       "\n",
       "      Complain  Z_CostContact  Z_Revenue  Response  \n",
       "0            0              3         11         1  \n",
       "1            0              3         11         0  \n",
       "2            0              3         11         0  \n",
       "3            0              3         11         0  \n",
       "4            0              3         11         0  \n",
       "...        ...            ...        ...       ...  \n",
       "2235         0              3         11         0  \n",
       "2236         0              3         11         0  \n",
       "2237         0              3         11         0  \n",
       "2238         0              3         11         0  \n",
       "2239         0              3         11         1  \n",
       "\n",
       "[2240 rows x 29 columns]>"
      ]
     },
     "execution_count": 4,
     "metadata": {},
     "output_type": "execute_result"
    }
   ],
   "source": [
    "data.info"
   ]
  },
  {
   "cell_type": "code",
   "execution_count": 5,
   "id": "999a4993",
   "metadata": {},
   "outputs": [
    {
     "data": {
      "text/html": [
       "<div>\n",
       "<style scoped>\n",
       "    .dataframe tbody tr th:only-of-type {\n",
       "        vertical-align: middle;\n",
       "    }\n",
       "\n",
       "    .dataframe tbody tr th {\n",
       "        vertical-align: top;\n",
       "    }\n",
       "\n",
       "    .dataframe thead th {\n",
       "        text-align: right;\n",
       "    }\n",
       "</style>\n",
       "<table border=\"1\" class=\"dataframe\">\n",
       "  <thead>\n",
       "    <tr style=\"text-align: right;\">\n",
       "      <th></th>\n",
       "      <th>ID</th>\n",
       "      <th>Year_Birth</th>\n",
       "      <th>Education</th>\n",
       "      <th>Marital_Status</th>\n",
       "      <th>Income</th>\n",
       "      <th>Kidhome</th>\n",
       "      <th>Teenhome</th>\n",
       "      <th>Dt_Customer</th>\n",
       "      <th>Recency</th>\n",
       "      <th>MntWines</th>\n",
       "      <th>...</th>\n",
       "      <th>NumWebVisitsMonth</th>\n",
       "      <th>AcceptedCmp3</th>\n",
       "      <th>AcceptedCmp4</th>\n",
       "      <th>AcceptedCmp5</th>\n",
       "      <th>AcceptedCmp1</th>\n",
       "      <th>AcceptedCmp2</th>\n",
       "      <th>Complain</th>\n",
       "      <th>Z_CostContact</th>\n",
       "      <th>Z_Revenue</th>\n",
       "      <th>Response</th>\n",
       "    </tr>\n",
       "  </thead>\n",
       "  <tbody>\n",
       "    <tr>\n",
       "      <th>0</th>\n",
       "      <td>5524</td>\n",
       "      <td>1957</td>\n",
       "      <td>Graduation</td>\n",
       "      <td>Single</td>\n",
       "      <td>58138.0</td>\n",
       "      <td>0</td>\n",
       "      <td>0</td>\n",
       "      <td>04-09-2012</td>\n",
       "      <td>58</td>\n",
       "      <td>635</td>\n",
       "      <td>...</td>\n",
       "      <td>7</td>\n",
       "      <td>0</td>\n",
       "      <td>0</td>\n",
       "      <td>0</td>\n",
       "      <td>0</td>\n",
       "      <td>0</td>\n",
       "      <td>0</td>\n",
       "      <td>3</td>\n",
       "      <td>11</td>\n",
       "      <td>1</td>\n",
       "    </tr>\n",
       "    <tr>\n",
       "      <th>1</th>\n",
       "      <td>2174</td>\n",
       "      <td>1954</td>\n",
       "      <td>Graduation</td>\n",
       "      <td>Single</td>\n",
       "      <td>46344.0</td>\n",
       "      <td>1</td>\n",
       "      <td>1</td>\n",
       "      <td>08-03-2014</td>\n",
       "      <td>38</td>\n",
       "      <td>11</td>\n",
       "      <td>...</td>\n",
       "      <td>5</td>\n",
       "      <td>0</td>\n",
       "      <td>0</td>\n",
       "      <td>0</td>\n",
       "      <td>0</td>\n",
       "      <td>0</td>\n",
       "      <td>0</td>\n",
       "      <td>3</td>\n",
       "      <td>11</td>\n",
       "      <td>0</td>\n",
       "    </tr>\n",
       "    <tr>\n",
       "      <th>2</th>\n",
       "      <td>4141</td>\n",
       "      <td>1965</td>\n",
       "      <td>Graduation</td>\n",
       "      <td>Together</td>\n",
       "      <td>71613.0</td>\n",
       "      <td>0</td>\n",
       "      <td>0</td>\n",
       "      <td>21-08-2013</td>\n",
       "      <td>26</td>\n",
       "      <td>426</td>\n",
       "      <td>...</td>\n",
       "      <td>4</td>\n",
       "      <td>0</td>\n",
       "      <td>0</td>\n",
       "      <td>0</td>\n",
       "      <td>0</td>\n",
       "      <td>0</td>\n",
       "      <td>0</td>\n",
       "      <td>3</td>\n",
       "      <td>11</td>\n",
       "      <td>0</td>\n",
       "    </tr>\n",
       "    <tr>\n",
       "      <th>3</th>\n",
       "      <td>6182</td>\n",
       "      <td>1984</td>\n",
       "      <td>Graduation</td>\n",
       "      <td>Together</td>\n",
       "      <td>26646.0</td>\n",
       "      <td>1</td>\n",
       "      <td>0</td>\n",
       "      <td>10-02-2014</td>\n",
       "      <td>26</td>\n",
       "      <td>11</td>\n",
       "      <td>...</td>\n",
       "      <td>6</td>\n",
       "      <td>0</td>\n",
       "      <td>0</td>\n",
       "      <td>0</td>\n",
       "      <td>0</td>\n",
       "      <td>0</td>\n",
       "      <td>0</td>\n",
       "      <td>3</td>\n",
       "      <td>11</td>\n",
       "      <td>0</td>\n",
       "    </tr>\n",
       "    <tr>\n",
       "      <th>4</th>\n",
       "      <td>5324</td>\n",
       "      <td>1981</td>\n",
       "      <td>PhD</td>\n",
       "      <td>Married</td>\n",
       "      <td>58293.0</td>\n",
       "      <td>1</td>\n",
       "      <td>0</td>\n",
       "      <td>19-01-2014</td>\n",
       "      <td>94</td>\n",
       "      <td>173</td>\n",
       "      <td>...</td>\n",
       "      <td>5</td>\n",
       "      <td>0</td>\n",
       "      <td>0</td>\n",
       "      <td>0</td>\n",
       "      <td>0</td>\n",
       "      <td>0</td>\n",
       "      <td>0</td>\n",
       "      <td>3</td>\n",
       "      <td>11</td>\n",
       "      <td>0</td>\n",
       "    </tr>\n",
       "  </tbody>\n",
       "</table>\n",
       "<p>5 rows × 29 columns</p>\n",
       "</div>"
      ],
      "text/plain": [
       "     ID  Year_Birth   Education Marital_Status   Income  Kidhome  Teenhome  \\\n",
       "0  5524        1957  Graduation         Single  58138.0        0         0   \n",
       "1  2174        1954  Graduation         Single  46344.0        1         1   \n",
       "2  4141        1965  Graduation       Together  71613.0        0         0   \n",
       "3  6182        1984  Graduation       Together  26646.0        1         0   \n",
       "4  5324        1981         PhD        Married  58293.0        1         0   \n",
       "\n",
       "  Dt_Customer  Recency  MntWines  ...  NumWebVisitsMonth  AcceptedCmp3  \\\n",
       "0  04-09-2012       58       635  ...                  7             0   \n",
       "1  08-03-2014       38        11  ...                  5             0   \n",
       "2  21-08-2013       26       426  ...                  4             0   \n",
       "3  10-02-2014       26        11  ...                  6             0   \n",
       "4  19-01-2014       94       173  ...                  5             0   \n",
       "\n",
       "   AcceptedCmp4  AcceptedCmp5  AcceptedCmp1  AcceptedCmp2  Complain  \\\n",
       "0             0             0             0             0         0   \n",
       "1             0             0             0             0         0   \n",
       "2             0             0             0             0         0   \n",
       "3             0             0             0             0         0   \n",
       "4             0             0             0             0         0   \n",
       "\n",
       "   Z_CostContact  Z_Revenue  Response  \n",
       "0              3         11         1  \n",
       "1              3         11         0  \n",
       "2              3         11         0  \n",
       "3              3         11         0  \n",
       "4              3         11         0  \n",
       "\n",
       "[5 rows x 29 columns]"
      ]
     },
     "execution_count": 5,
     "metadata": {},
     "output_type": "execute_result"
    }
   ],
   "source": [
    "data.head()"
   ]
  },
  {
   "cell_type": "code",
   "execution_count": 6,
   "id": "ca5f3f08",
   "metadata": {},
   "outputs": [
    {
     "data": {
      "text/html": [
       "<div>\n",
       "<style scoped>\n",
       "    .dataframe tbody tr th:only-of-type {\n",
       "        vertical-align: middle;\n",
       "    }\n",
       "\n",
       "    .dataframe tbody tr th {\n",
       "        vertical-align: top;\n",
       "    }\n",
       "\n",
       "    .dataframe thead th {\n",
       "        text-align: right;\n",
       "    }\n",
       "</style>\n",
       "<table border=\"1\" class=\"dataframe\">\n",
       "  <thead>\n",
       "    <tr style=\"text-align: right;\">\n",
       "      <th></th>\n",
       "      <th>count</th>\n",
       "      <th>mean</th>\n",
       "      <th>std</th>\n",
       "      <th>min</th>\n",
       "      <th>25%</th>\n",
       "      <th>50%</th>\n",
       "      <th>75%</th>\n",
       "      <th>max</th>\n",
       "    </tr>\n",
       "  </thead>\n",
       "  <tbody>\n",
       "    <tr>\n",
       "      <th>ID</th>\n",
       "      <td>2240.0</td>\n",
       "      <td>5592.159821</td>\n",
       "      <td>3246.662198</td>\n",
       "      <td>0.0</td>\n",
       "      <td>2828.25</td>\n",
       "      <td>5458.5</td>\n",
       "      <td>8427.75</td>\n",
       "      <td>11191.0</td>\n",
       "    </tr>\n",
       "    <tr>\n",
       "      <th>Year_Birth</th>\n",
       "      <td>2240.0</td>\n",
       "      <td>1968.805804</td>\n",
       "      <td>11.984069</td>\n",
       "      <td>1893.0</td>\n",
       "      <td>1959.00</td>\n",
       "      <td>1970.0</td>\n",
       "      <td>1977.00</td>\n",
       "      <td>1996.0</td>\n",
       "    </tr>\n",
       "    <tr>\n",
       "      <th>Income</th>\n",
       "      <td>2216.0</td>\n",
       "      <td>52247.251354</td>\n",
       "      <td>25173.076661</td>\n",
       "      <td>1730.0</td>\n",
       "      <td>35303.00</td>\n",
       "      <td>51381.5</td>\n",
       "      <td>68522.00</td>\n",
       "      <td>666666.0</td>\n",
       "    </tr>\n",
       "    <tr>\n",
       "      <th>Kidhome</th>\n",
       "      <td>2240.0</td>\n",
       "      <td>0.444196</td>\n",
       "      <td>0.538398</td>\n",
       "      <td>0.0</td>\n",
       "      <td>0.00</td>\n",
       "      <td>0.0</td>\n",
       "      <td>1.00</td>\n",
       "      <td>2.0</td>\n",
       "    </tr>\n",
       "    <tr>\n",
       "      <th>Teenhome</th>\n",
       "      <td>2240.0</td>\n",
       "      <td>0.506250</td>\n",
       "      <td>0.544538</td>\n",
       "      <td>0.0</td>\n",
       "      <td>0.00</td>\n",
       "      <td>0.0</td>\n",
       "      <td>1.00</td>\n",
       "      <td>2.0</td>\n",
       "    </tr>\n",
       "    <tr>\n",
       "      <th>Recency</th>\n",
       "      <td>2240.0</td>\n",
       "      <td>49.109375</td>\n",
       "      <td>28.962453</td>\n",
       "      <td>0.0</td>\n",
       "      <td>24.00</td>\n",
       "      <td>49.0</td>\n",
       "      <td>74.00</td>\n",
       "      <td>99.0</td>\n",
       "    </tr>\n",
       "    <tr>\n",
       "      <th>MntWines</th>\n",
       "      <td>2240.0</td>\n",
       "      <td>303.935714</td>\n",
       "      <td>336.597393</td>\n",
       "      <td>0.0</td>\n",
       "      <td>23.75</td>\n",
       "      <td>173.5</td>\n",
       "      <td>504.25</td>\n",
       "      <td>1493.0</td>\n",
       "    </tr>\n",
       "    <tr>\n",
       "      <th>MntFruits</th>\n",
       "      <td>2240.0</td>\n",
       "      <td>26.302232</td>\n",
       "      <td>39.773434</td>\n",
       "      <td>0.0</td>\n",
       "      <td>1.00</td>\n",
       "      <td>8.0</td>\n",
       "      <td>33.00</td>\n",
       "      <td>199.0</td>\n",
       "    </tr>\n",
       "    <tr>\n",
       "      <th>MntMeatProducts</th>\n",
       "      <td>2240.0</td>\n",
       "      <td>166.950000</td>\n",
       "      <td>225.715373</td>\n",
       "      <td>0.0</td>\n",
       "      <td>16.00</td>\n",
       "      <td>67.0</td>\n",
       "      <td>232.00</td>\n",
       "      <td>1725.0</td>\n",
       "    </tr>\n",
       "    <tr>\n",
       "      <th>MntFishProducts</th>\n",
       "      <td>2240.0</td>\n",
       "      <td>37.525446</td>\n",
       "      <td>54.628979</td>\n",
       "      <td>0.0</td>\n",
       "      <td>3.00</td>\n",
       "      <td>12.0</td>\n",
       "      <td>50.00</td>\n",
       "      <td>259.0</td>\n",
       "    </tr>\n",
       "    <tr>\n",
       "      <th>MntSweetProducts</th>\n",
       "      <td>2240.0</td>\n",
       "      <td>27.062946</td>\n",
       "      <td>41.280498</td>\n",
       "      <td>0.0</td>\n",
       "      <td>1.00</td>\n",
       "      <td>8.0</td>\n",
       "      <td>33.00</td>\n",
       "      <td>263.0</td>\n",
       "    </tr>\n",
       "    <tr>\n",
       "      <th>MntGoldProds</th>\n",
       "      <td>2240.0</td>\n",
       "      <td>44.021875</td>\n",
       "      <td>52.167439</td>\n",
       "      <td>0.0</td>\n",
       "      <td>9.00</td>\n",
       "      <td>24.0</td>\n",
       "      <td>56.00</td>\n",
       "      <td>362.0</td>\n",
       "    </tr>\n",
       "    <tr>\n",
       "      <th>NumDealsPurchases</th>\n",
       "      <td>2240.0</td>\n",
       "      <td>2.325000</td>\n",
       "      <td>1.932238</td>\n",
       "      <td>0.0</td>\n",
       "      <td>1.00</td>\n",
       "      <td>2.0</td>\n",
       "      <td>3.00</td>\n",
       "      <td>15.0</td>\n",
       "    </tr>\n",
       "    <tr>\n",
       "      <th>NumWebPurchases</th>\n",
       "      <td>2240.0</td>\n",
       "      <td>4.084821</td>\n",
       "      <td>2.778714</td>\n",
       "      <td>0.0</td>\n",
       "      <td>2.00</td>\n",
       "      <td>4.0</td>\n",
       "      <td>6.00</td>\n",
       "      <td>27.0</td>\n",
       "    </tr>\n",
       "    <tr>\n",
       "      <th>NumCatalogPurchases</th>\n",
       "      <td>2240.0</td>\n",
       "      <td>2.662054</td>\n",
       "      <td>2.923101</td>\n",
       "      <td>0.0</td>\n",
       "      <td>0.00</td>\n",
       "      <td>2.0</td>\n",
       "      <td>4.00</td>\n",
       "      <td>28.0</td>\n",
       "    </tr>\n",
       "    <tr>\n",
       "      <th>NumStorePurchases</th>\n",
       "      <td>2240.0</td>\n",
       "      <td>5.790179</td>\n",
       "      <td>3.250958</td>\n",
       "      <td>0.0</td>\n",
       "      <td>3.00</td>\n",
       "      <td>5.0</td>\n",
       "      <td>8.00</td>\n",
       "      <td>13.0</td>\n",
       "    </tr>\n",
       "    <tr>\n",
       "      <th>NumWebVisitsMonth</th>\n",
       "      <td>2240.0</td>\n",
       "      <td>5.316518</td>\n",
       "      <td>2.426645</td>\n",
       "      <td>0.0</td>\n",
       "      <td>3.00</td>\n",
       "      <td>6.0</td>\n",
       "      <td>7.00</td>\n",
       "      <td>20.0</td>\n",
       "    </tr>\n",
       "    <tr>\n",
       "      <th>AcceptedCmp3</th>\n",
       "      <td>2240.0</td>\n",
       "      <td>0.072768</td>\n",
       "      <td>0.259813</td>\n",
       "      <td>0.0</td>\n",
       "      <td>0.00</td>\n",
       "      <td>0.0</td>\n",
       "      <td>0.00</td>\n",
       "      <td>1.0</td>\n",
       "    </tr>\n",
       "    <tr>\n",
       "      <th>AcceptedCmp4</th>\n",
       "      <td>2240.0</td>\n",
       "      <td>0.074554</td>\n",
       "      <td>0.262728</td>\n",
       "      <td>0.0</td>\n",
       "      <td>0.00</td>\n",
       "      <td>0.0</td>\n",
       "      <td>0.00</td>\n",
       "      <td>1.0</td>\n",
       "    </tr>\n",
       "    <tr>\n",
       "      <th>AcceptedCmp5</th>\n",
       "      <td>2240.0</td>\n",
       "      <td>0.072768</td>\n",
       "      <td>0.259813</td>\n",
       "      <td>0.0</td>\n",
       "      <td>0.00</td>\n",
       "      <td>0.0</td>\n",
       "      <td>0.00</td>\n",
       "      <td>1.0</td>\n",
       "    </tr>\n",
       "    <tr>\n",
       "      <th>AcceptedCmp1</th>\n",
       "      <td>2240.0</td>\n",
       "      <td>0.064286</td>\n",
       "      <td>0.245316</td>\n",
       "      <td>0.0</td>\n",
       "      <td>0.00</td>\n",
       "      <td>0.0</td>\n",
       "      <td>0.00</td>\n",
       "      <td>1.0</td>\n",
       "    </tr>\n",
       "    <tr>\n",
       "      <th>AcceptedCmp2</th>\n",
       "      <td>2240.0</td>\n",
       "      <td>0.013393</td>\n",
       "      <td>0.114976</td>\n",
       "      <td>0.0</td>\n",
       "      <td>0.00</td>\n",
       "      <td>0.0</td>\n",
       "      <td>0.00</td>\n",
       "      <td>1.0</td>\n",
       "    </tr>\n",
       "    <tr>\n",
       "      <th>Complain</th>\n",
       "      <td>2240.0</td>\n",
       "      <td>0.009375</td>\n",
       "      <td>0.096391</td>\n",
       "      <td>0.0</td>\n",
       "      <td>0.00</td>\n",
       "      <td>0.0</td>\n",
       "      <td>0.00</td>\n",
       "      <td>1.0</td>\n",
       "    </tr>\n",
       "    <tr>\n",
       "      <th>Z_CostContact</th>\n",
       "      <td>2240.0</td>\n",
       "      <td>3.000000</td>\n",
       "      <td>0.000000</td>\n",
       "      <td>3.0</td>\n",
       "      <td>3.00</td>\n",
       "      <td>3.0</td>\n",
       "      <td>3.00</td>\n",
       "      <td>3.0</td>\n",
       "    </tr>\n",
       "    <tr>\n",
       "      <th>Z_Revenue</th>\n",
       "      <td>2240.0</td>\n",
       "      <td>11.000000</td>\n",
       "      <td>0.000000</td>\n",
       "      <td>11.0</td>\n",
       "      <td>11.00</td>\n",
       "      <td>11.0</td>\n",
       "      <td>11.00</td>\n",
       "      <td>11.0</td>\n",
       "    </tr>\n",
       "    <tr>\n",
       "      <th>Response</th>\n",
       "      <td>2240.0</td>\n",
       "      <td>0.149107</td>\n",
       "      <td>0.356274</td>\n",
       "      <td>0.0</td>\n",
       "      <td>0.00</td>\n",
       "      <td>0.0</td>\n",
       "      <td>0.00</td>\n",
       "      <td>1.0</td>\n",
       "    </tr>\n",
       "  </tbody>\n",
       "</table>\n",
       "</div>"
      ],
      "text/plain": [
       "                      count          mean           std     min       25%  \\\n",
       "ID                   2240.0   5592.159821   3246.662198     0.0   2828.25   \n",
       "Year_Birth           2240.0   1968.805804     11.984069  1893.0   1959.00   \n",
       "Income               2216.0  52247.251354  25173.076661  1730.0  35303.00   \n",
       "Kidhome              2240.0      0.444196      0.538398     0.0      0.00   \n",
       "Teenhome             2240.0      0.506250      0.544538     0.0      0.00   \n",
       "Recency              2240.0     49.109375     28.962453     0.0     24.00   \n",
       "MntWines             2240.0    303.935714    336.597393     0.0     23.75   \n",
       "MntFruits            2240.0     26.302232     39.773434     0.0      1.00   \n",
       "MntMeatProducts      2240.0    166.950000    225.715373     0.0     16.00   \n",
       "MntFishProducts      2240.0     37.525446     54.628979     0.0      3.00   \n",
       "MntSweetProducts     2240.0     27.062946     41.280498     0.0      1.00   \n",
       "MntGoldProds         2240.0     44.021875     52.167439     0.0      9.00   \n",
       "NumDealsPurchases    2240.0      2.325000      1.932238     0.0      1.00   \n",
       "NumWebPurchases      2240.0      4.084821      2.778714     0.0      2.00   \n",
       "NumCatalogPurchases  2240.0      2.662054      2.923101     0.0      0.00   \n",
       "NumStorePurchases    2240.0      5.790179      3.250958     0.0      3.00   \n",
       "NumWebVisitsMonth    2240.0      5.316518      2.426645     0.0      3.00   \n",
       "AcceptedCmp3         2240.0      0.072768      0.259813     0.0      0.00   \n",
       "AcceptedCmp4         2240.0      0.074554      0.262728     0.0      0.00   \n",
       "AcceptedCmp5         2240.0      0.072768      0.259813     0.0      0.00   \n",
       "AcceptedCmp1         2240.0      0.064286      0.245316     0.0      0.00   \n",
       "AcceptedCmp2         2240.0      0.013393      0.114976     0.0      0.00   \n",
       "Complain             2240.0      0.009375      0.096391     0.0      0.00   \n",
       "Z_CostContact        2240.0      3.000000      0.000000     3.0      3.00   \n",
       "Z_Revenue            2240.0     11.000000      0.000000    11.0     11.00   \n",
       "Response             2240.0      0.149107      0.356274     0.0      0.00   \n",
       "\n",
       "                         50%       75%       max  \n",
       "ID                    5458.5   8427.75   11191.0  \n",
       "Year_Birth            1970.0   1977.00    1996.0  \n",
       "Income               51381.5  68522.00  666666.0  \n",
       "Kidhome                  0.0      1.00       2.0  \n",
       "Teenhome                 0.0      1.00       2.0  \n",
       "Recency                 49.0     74.00      99.0  \n",
       "MntWines               173.5    504.25    1493.0  \n",
       "MntFruits                8.0     33.00     199.0  \n",
       "MntMeatProducts         67.0    232.00    1725.0  \n",
       "MntFishProducts         12.0     50.00     259.0  \n",
       "MntSweetProducts         8.0     33.00     263.0  \n",
       "MntGoldProds            24.0     56.00     362.0  \n",
       "NumDealsPurchases        2.0      3.00      15.0  \n",
       "NumWebPurchases          4.0      6.00      27.0  \n",
       "NumCatalogPurchases      2.0      4.00      28.0  \n",
       "NumStorePurchases        5.0      8.00      13.0  \n",
       "NumWebVisitsMonth        6.0      7.00      20.0  \n",
       "AcceptedCmp3             0.0      0.00       1.0  \n",
       "AcceptedCmp4             0.0      0.00       1.0  \n",
       "AcceptedCmp5             0.0      0.00       1.0  \n",
       "AcceptedCmp1             0.0      0.00       1.0  \n",
       "AcceptedCmp2             0.0      0.00       1.0  \n",
       "Complain                 0.0      0.00       1.0  \n",
       "Z_CostContact            3.0      3.00       3.0  \n",
       "Z_Revenue               11.0     11.00      11.0  \n",
       "Response                 0.0      0.00       1.0  "
      ]
     },
     "execution_count": 6,
     "metadata": {},
     "output_type": "execute_result"
    }
   ],
   "source": [
    "data.describe().transpose()"
   ]
  },
  {
   "cell_type": "code",
   "execution_count": 7,
   "id": "1c2202c0",
   "metadata": {},
   "outputs": [
    {
     "data": {
      "image/png": "[encoded data removed]",
      "text/plain": [
       "<Figure size 432x288 with 1 Axes>"
      ]
     },
     "metadata": {
      "needs_background": "light"
     },
     "output_type": "display_data"
    }
   ],
   "source": [
    "fig = plt.figure()\n",
    "ax = fig.add_subplot(1, 1, 1)\n",
    "\n",
    "ax.set_title('Year Birth Distribution')\n",
    "ax.set_xlabel('Year Birth')\n",
    "ax.set_ylabel('Count')\n",
    "# ax.ylim(0,100)\n",
    "\n",
    "plt.hist(data['Year_Birth'],color='dodgerblue',bins=50,density=True)\n",
    "\n",
    "plt.show()"
   ]
  },
  {
   "cell_type": "code",
   "execution_count": 8,
   "id": "42db8d0d",
   "metadata": {
    "scrolled": true
   },
   "outputs": [
    {
     "data": {
      "image/png": "[encoded data removed]",
      "text/plain": [
       "<Figure size 432x288 with 1 Axes>"
      ]
     },
     "metadata": {
      "needs_background": "light"
     },
     "output_type": "display_data"
    }
   ],
   "source": [
    "fig = plt.figure()\n",
    "ax = fig.add_subplot(1 ,1, 1)\n",
    "\n",
    "ax.set_title('Education count')\n",
    "ax.set_xlabel('Education')\n",
    "ax.set_ylabel('Count')\n",
    "edu = data['Education'].value_counts()\n",
    "plt.bar(data.Education.unique(),edu)\n",
    "# plt.xticks(rotation='vertical')\n",
    "plt.show()"
   ]
  },
  {
   "cell_type": "code",
   "execution_count": 9,
   "id": "3480ed2e",
   "metadata": {
    "scrolled": true
   },
   "outputs": [
    {
     "data": {
      "text/plain": [
       "Married     864\n",
       "Together    580\n",
       "Single      480\n",
       "Divorced    232\n",
       "Widow        77\n",
       "Alone         3\n",
       "Absurd        2\n",
       "YOLO          2\n",
       "Name: Marital_Status, dtype: int64"
      ]
     },
     "execution_count": 9,
     "metadata": {},
     "output_type": "execute_result"
    }
   ],
   "source": [
    " data['Marital_Status'].value_counts()"
   ]
  },
  {
   "cell_type": "code",
   "execution_count": 10,
   "id": "3a88413a",
   "metadata": {},
   "outputs": [
    {
     "data": {
      "image/png": "[encoded data removed]",
      "text/plain": [
       "<Figure size 432x288 with 1 Axes>"
      ]
     },
     "metadata": {
      "needs_background": "light"
     },
     "output_type": "display_data"
    }
   ],
   "source": [
    "fig = plt.figure()\n",
    "ax = fig.add_subplot(1 ,1, 1)\n",
    "\n",
    "ax.set_title('Marital_Status count')\n",
    "ax.set_xlabel('Marital_Status')\n",
    "ax.set_ylabel('Count')\n",
    "Marital_Status = data['Marital_Status'].value_counts()\n",
    "plt.bar(data.Marital_Status.unique(),Marital_Status)\n",
    "# plt.xticks(rotation='vertical')\n",
    "plt.show()"
   ]
  },
  {
   "cell_type": "code",
   "execution_count": 11,
   "id": "e3366866",
   "metadata": {},
   "outputs": [
    {
     "data": {
      "text/plain": [
       "Index(['ID', 'Year_Birth', 'Education', 'Marital_Status', 'Income', 'Kidhome',\n",
       "       'Teenhome', 'Dt_Customer', 'Recency', 'MntWines', 'MntFruits',\n",
       "       'MntMeatProducts', 'MntFishProducts', 'MntSweetProducts',\n",
       "       'MntGoldProds', 'NumDealsPurchases', 'NumWebPurchases',\n",
       "       'NumCatalogPurchases', 'NumStorePurchases', 'NumWebVisitsMonth',\n",
       "       'AcceptedCmp3', 'AcceptedCmp4', 'AcceptedCmp5', 'AcceptedCmp1',\n",
       "       'AcceptedCmp2', 'Complain', 'Z_CostContact', 'Z_Revenue', 'Response'],\n",
       "      dtype='object')"
      ]
     },
     "execution_count": 11,
     "metadata": {},
     "output_type": "execute_result"
    }
   ],
   "source": [
    "data.columns"
   ]
  },
  {
   "cell_type": "code",
   "execution_count": 12,
   "id": "24c54f20",
   "metadata": {
    "scrolled": true
   },
   "outputs": [
    {
     "data": {
      "image/png": "[encoded data removed]",
      "text/plain": [
       "<Figure size 432x288 with 1 Axes>"
      ]
     },
     "metadata": {
      "needs_background": "light"
     },
     "output_type": "display_data"
    }
   ],
   "source": [
    "plt.hist([data.Kidhome,data.Teenhome], \n",
    "         label = ['Kidhome','Teenhome'], stacked=True)\n",
    "plt.legend()\n",
    "plt.show()"
   ]
  },
  {
   "cell_type": "code",
   "execution_count": 13,
   "id": "5c0c866d",
   "metadata": {
    "scrolled": true
   },
   "outputs": [
    {
     "data": {
      "image/png": "[encoded data removed]",
      "text/plain": [
       "<Figure size 432x288 with 1 Axes>"
      ]
     },
     "metadata": {
      "needs_background": "light"
     },
     "output_type": "display_data"
    }
   ],
   "source": [
    "fig = plt.figure()\n",
    "ax = fig.add_subplot(1 ,1, 1)\n",
    "\n",
    "ax.set_title('Kidhome count')\n",
    "ax.set_xlabel('Kidhome')\n",
    "ax.set_ylabel('Count')\n",
    "Kidhome = data['Kidhome'].value_counts()\n",
    "plt.bar(data.Kidhome.unique(),Kidhome,width=0.5, bottom=None, align='center')\n",
    "# plt.xticks(rotation='vertical')\n",
    "plt.show()"
   ]
  },
  {
   "cell_type": "code",
   "execution_count": 14,
   "id": "39dcdca1",
   "metadata": {},
   "outputs": [
    {
     "data": {
      "image/png": "[encoded data removed]",
      "text/plain": [
       "<Figure size 432x288 with 1 Axes>"
      ]
     },
     "metadata": {
      "needs_background": "light"
     },
     "output_type": "display_data"
    }
   ],
   "source": [
    "fig = plt.figure()\n",
    "ax = fig.add_subplot(1 ,1, 1)\n",
    "\n",
    "ax.set_title('Teenhome count')\n",
    "ax.set_xlabel('Teenhome')\n",
    "ax.set_ylabel('Count')\n",
    "Teenhome = data['Teenhome'].value_counts()\n",
    "plt.bar(data.Teenhome.unique(),Teenhome,width=0.5, bottom=None, align='center')\n",
    "# plt.xticks(rotation='vertical')\n",
    "plt.show()"
   ]
  },
  {
   "cell_type": "code",
   "execution_count": null,
   "id": "77863118",
   "metadata": {},
   "outputs": [],
   "source": []
  },
  {
   "cell_type": "code",
   "execution_count": null,
   "id": "94399648",
   "metadata": {},
   "outputs": [],
   "source": []
  },
  {
   "cell_type": "code",
   "execution_count": null,
   "id": "ffa6aa9d",
   "metadata": {},
   "outputs": [],
   "source": []
  },
  {
   "cell_type": "markdown",
   "id": "3490e960",
   "metadata": {},
   "source": [
    "# 清整資料"
   ]
  },
  {
   "cell_type": "code",
   "execution_count": 15,
   "id": "a2d34471",
   "metadata": {},
   "outputs": [
    {
     "data": {
      "text/plain": [
       "ID                     False\n",
       "Year_Birth             False\n",
       "Education              False\n",
       "Marital_Status         False\n",
       "Income                  True\n",
       "Kidhome                False\n",
       "Teenhome               False\n",
       "Dt_Customer            False\n",
       "Recency                False\n",
       "MntWines               False\n",
       "MntFruits              False\n",
       "MntMeatProducts        False\n",
       "MntFishProducts        False\n",
       "MntSweetProducts       False\n",
       "MntGoldProds           False\n",
       "NumDealsPurchases      False\n",
       "NumWebPurchases        False\n",
       "NumCatalogPurchases    False\n",
       "NumStorePurchases      False\n",
       "NumWebVisitsMonth      False\n",
       "AcceptedCmp3           False\n",
       "AcceptedCmp4           False\n",
       "AcceptedCmp5           False\n",
       "AcceptedCmp1           False\n",
       "AcceptedCmp2           False\n",
       "Complain               False\n",
       "Z_CostContact          False\n",
       "Z_Revenue              False\n",
       "Response               False\n",
       "dtype: bool"
      ]
     },
     "execution_count": 15,
     "metadata": {},
     "output_type": "execute_result"
    }
   ],
   "source": [
    "data.isna().any()"
   ]
  },
  {
   "cell_type": "code",
   "execution_count": 16,
   "id": "26072e96",
   "metadata": {},
   "outputs": [
    {
     "data": {
      "text/plain": [
       "(2240, 29)"
      ]
     },
     "execution_count": 16,
     "metadata": {},
     "output_type": "execute_result"
    }
   ],
   "source": [
    "data.shape"
   ]
  },
  {
   "cell_type": "code",
   "execution_count": 17,
   "id": "e09e5346",
   "metadata": {},
   "outputs": [
    {
     "name": "stdout",
     "output_type": "stream",
     "text": [
      "(2216, 29)\n"
     ]
    }
   ],
   "source": [
    "data = data.dropna(subset =['Income'],how='all') \n",
    "print(data.dropna(subset =['Income'],how='all').shape)\n",
    "\n"
   ]
  },
  {
   "cell_type": "code",
   "execution_count": 18,
   "id": "b75f5aea",
   "metadata": {},
   "outputs": [
    {
     "data": {
      "text/plain": [
       "ID                     False\n",
       "Year_Birth             False\n",
       "Education              False\n",
       "Marital_Status         False\n",
       "Income                 False\n",
       "Kidhome                False\n",
       "Teenhome               False\n",
       "Dt_Customer            False\n",
       "Recency                False\n",
       "MntWines               False\n",
       "MntFruits              False\n",
       "MntMeatProducts        False\n",
       "MntFishProducts        False\n",
       "MntSweetProducts       False\n",
       "MntGoldProds           False\n",
       "NumDealsPurchases      False\n",
       "NumWebPurchases        False\n",
       "NumCatalogPurchases    False\n",
       "NumStorePurchases      False\n",
       "NumWebVisitsMonth      False\n",
       "AcceptedCmp3           False\n",
       "AcceptedCmp4           False\n",
       "AcceptedCmp5           False\n",
       "AcceptedCmp1           False\n",
       "AcceptedCmp2           False\n",
       "Complain               False\n",
       "Z_CostContact          False\n",
       "Z_Revenue              False\n",
       "Response               False\n",
       "dtype: bool"
      ]
     },
     "execution_count": 18,
     "metadata": {},
     "output_type": "execute_result"
    }
   ],
   "source": [
    "data.isna().any()"
   ]
  },
  {
   "cell_type": "code",
   "execution_count": 19,
   "id": "120b9645",
   "metadata": {},
   "outputs": [
    {
     "data": {
      "text/html": [
       "<div>\n",
       "<style scoped>\n",
       "    .dataframe tbody tr th:only-of-type {\n",
       "        vertical-align: middle;\n",
       "    }\n",
       "\n",
       "    .dataframe tbody tr th {\n",
       "        vertical-align: top;\n",
       "    }\n",
       "\n",
       "    .dataframe thead th {\n",
       "        text-align: right;\n",
       "    }\n",
       "</style>\n",
       "<table border=\"1\" class=\"dataframe\">\n",
       "  <thead>\n",
       "    <tr style=\"text-align: right;\">\n",
       "      <th></th>\n",
       "      <th>ID</th>\n",
       "      <th>Year_Birth</th>\n",
       "      <th>Education</th>\n",
       "      <th>Marital_Status</th>\n",
       "      <th>Income</th>\n",
       "      <th>Kidhome</th>\n",
       "      <th>Teenhome</th>\n",
       "      <th>Dt_Customer</th>\n",
       "      <th>Recency</th>\n",
       "      <th>MntWines</th>\n",
       "      <th>...</th>\n",
       "      <th>NumWebVisitsMonth</th>\n",
       "      <th>AcceptedCmp3</th>\n",
       "      <th>AcceptedCmp4</th>\n",
       "      <th>AcceptedCmp5</th>\n",
       "      <th>AcceptedCmp1</th>\n",
       "      <th>AcceptedCmp2</th>\n",
       "      <th>Complain</th>\n",
       "      <th>Z_CostContact</th>\n",
       "      <th>Z_Revenue</th>\n",
       "      <th>Response</th>\n",
       "    </tr>\n",
       "  </thead>\n",
       "  <tbody>\n",
       "  </tbody>\n",
       "</table>\n",
       "<p>0 rows × 29 columns</p>\n",
       "</div>"
      ],
      "text/plain": [
       "Empty DataFrame\n",
       "Columns: [ID, Year_Birth, Education, Marital_Status, Income, Kidhome, Teenhome, Dt_Customer, Recency, MntWines, MntFruits, MntMeatProducts, MntFishProducts, MntSweetProducts, MntGoldProds, NumDealsPurchases, NumWebPurchases, NumCatalogPurchases, NumStorePurchases, NumWebVisitsMonth, AcceptedCmp3, AcceptedCmp4, AcceptedCmp5, AcceptedCmp1, AcceptedCmp2, Complain, Z_CostContact, Z_Revenue, Response]\n",
       "Index: []\n",
       "\n",
       "[0 rows x 29 columns]"
      ]
     },
     "execution_count": 19,
     "metadata": {},
     "output_type": "execute_result"
    }
   ],
   "source": [
    "data[data.duplicated()]"
   ]
  },
  {
   "cell_type": "code",
   "execution_count": 20,
   "id": "ba5606a0",
   "metadata": {},
   "outputs": [
    {
     "data": {
      "text/plain": [
       "Education\n",
       "Graduation    1116\n",
       "PhD            481\n",
       "Master         365\n",
       "2n Cycle       200\n",
       "Basic           54\n",
       "dtype: int64"
      ]
     },
     "execution_count": 20,
     "metadata": {},
     "output_type": "execute_result"
    }
   ],
   "source": [
    "data.groupby('Education').size().sort_values(ascending=False)"
   ]
  },
  {
   "cell_type": "code",
   "execution_count": 21,
   "id": "0336eff8",
   "metadata": {},
   "outputs": [
    {
     "data": {
      "text/plain": [
       "Marital_Status\n",
       "Married     857\n",
       "Together    573\n",
       "Single      471\n",
       "Divorced    232\n",
       "Widow        76\n",
       "Alone         3\n",
       "Absurd        2\n",
       "YOLO          2\n",
       "dtype: int64"
      ]
     },
     "execution_count": 21,
     "metadata": {},
     "output_type": "execute_result"
    }
   ],
   "source": [
    "data.groupby('Marital_Status').size().sort_values(ascending=False)"
   ]
  },
  {
   "cell_type": "code",
   "execution_count": 22,
   "id": "ca99dcb1",
   "metadata": {},
   "outputs": [],
   "source": [
    "data[\"Education\"] = data[\"Education\"].replace({\"Basic\": 0, \n",
    "                                               \"Graduation\": 1, \n",
    "                                               \"2n Cycle\": 2, \n",
    "                                               \"Master\": 2, \n",
    "                                               \"PhD\": 3})\n",
    "# Encoded in numbers in order"
   ]
  },
  {
   "cell_type": "code",
   "execution_count": 23,
   "id": "e72f09e4",
   "metadata": {},
   "outputs": [],
   "source": [
    "data['Marital_Status'] = data[\"Marital_Status\"].replace({\"Married\":\"Partner\", \n",
    "                                                         \"Together\":\"Partner\", \n",
    "                                                         \"Absurd\":\"Alone\",\n",
    "                                                         \"Widow\":\"Alone\", \n",
    "                                                         \"YOLO\":\"Alone\", \n",
    "                                                         \"Divorced\":\"Alone\", \n",
    "                                                         \"Single\":\"Alone\"})\n",
    "\n",
    "step_2 = data['Marital_Status'].replace({'Alone': 1, \n",
    "                                         'Partner': 2})\n",
    "\n",
    "data[\"Family_Size\"] = step_2 + data['Kidhome'] + data['Teenhome']  \n",
    "# Total number of people in the family\n",
    "\n",
    "\n",
    "\n"
   ]
  },
  {
   "cell_type": "code",
   "execution_count": null,
   "id": "dcacc465",
   "metadata": {},
   "outputs": [],
   "source": []
  },
  {
   "cell_type": "raw",
   "id": "f46dc052",
   "metadata": {},
   "source": [
    "data = pd.concat([data, pd.get_dummies(data['Marital_Status'])], axis=1)  # Separate features for Alone and Partner"
   ]
  },
  {
   "cell_type": "code",
   "execution_count": 24,
   "id": "a950b272",
   "metadata": {},
   "outputs": [
    {
     "data": {
      "text/html": [
       "<div>\n",
       "<style scoped>\n",
       "    .dataframe tbody tr th:only-of-type {\n",
       "        vertical-align: middle;\n",
       "    }\n",
       "\n",
       "    .dataframe tbody tr th {\n",
       "        vertical-align: top;\n",
       "    }\n",
       "\n",
       "    .dataframe thead th {\n",
       "        text-align: right;\n",
       "    }\n",
       "</style>\n",
       "<table border=\"1\" class=\"dataframe\">\n",
       "  <thead>\n",
       "    <tr style=\"text-align: right;\">\n",
       "      <th></th>\n",
       "      <th>ID</th>\n",
       "      <th>Year_Birth</th>\n",
       "      <th>Education</th>\n",
       "      <th>Marital_Status</th>\n",
       "      <th>Income</th>\n",
       "      <th>Kidhome</th>\n",
       "      <th>Teenhome</th>\n",
       "      <th>Dt_Customer</th>\n",
       "      <th>Recency</th>\n",
       "      <th>MntWines</th>\n",
       "      <th>...</th>\n",
       "      <th>AcceptedCmp3</th>\n",
       "      <th>AcceptedCmp4</th>\n",
       "      <th>AcceptedCmp5</th>\n",
       "      <th>AcceptedCmp1</th>\n",
       "      <th>AcceptedCmp2</th>\n",
       "      <th>Complain</th>\n",
       "      <th>Z_CostContact</th>\n",
       "      <th>Z_Revenue</th>\n",
       "      <th>Response</th>\n",
       "      <th>Family_Size</th>\n",
       "    </tr>\n",
       "  </thead>\n",
       "  <tbody>\n",
       "    <tr>\n",
       "      <th>0</th>\n",
       "      <td>5524</td>\n",
       "      <td>1957</td>\n",
       "      <td>1</td>\n",
       "      <td>Alone</td>\n",
       "      <td>58138.0</td>\n",
       "      <td>0</td>\n",
       "      <td>0</td>\n",
       "      <td>04-09-2012</td>\n",
       "      <td>58</td>\n",
       "      <td>635</td>\n",
       "      <td>...</td>\n",
       "      <td>0</td>\n",
       "      <td>0</td>\n",
       "      <td>0</td>\n",
       "      <td>0</td>\n",
       "      <td>0</td>\n",
       "      <td>0</td>\n",
       "      <td>3</td>\n",
       "      <td>11</td>\n",
       "      <td>1</td>\n",
       "      <td>1</td>\n",
       "    </tr>\n",
       "    <tr>\n",
       "      <th>1</th>\n",
       "      <td>2174</td>\n",
       "      <td>1954</td>\n",
       "      <td>1</td>\n",
       "      <td>Alone</td>\n",
       "      <td>46344.0</td>\n",
       "      <td>1</td>\n",
       "      <td>1</td>\n",
       "      <td>08-03-2014</td>\n",
       "      <td>38</td>\n",
       "      <td>11</td>\n",
       "      <td>...</td>\n",
       "      <td>0</td>\n",
       "      <td>0</td>\n",
       "      <td>0</td>\n",
       "      <td>0</td>\n",
       "      <td>0</td>\n",
       "      <td>0</td>\n",
       "      <td>3</td>\n",
       "      <td>11</td>\n",
       "      <td>0</td>\n",
       "      <td>3</td>\n",
       "    </tr>\n",
       "    <tr>\n",
       "      <th>2</th>\n",
       "      <td>4141</td>\n",
       "      <td>1965</td>\n",
       "      <td>1</td>\n",
       "      <td>Partner</td>\n",
       "      <td>71613.0</td>\n",
       "      <td>0</td>\n",
       "      <td>0</td>\n",
       "      <td>21-08-2013</td>\n",
       "      <td>26</td>\n",
       "      <td>426</td>\n",
       "      <td>...</td>\n",
       "      <td>0</td>\n",
       "      <td>0</td>\n",
       "      <td>0</td>\n",
       "      <td>0</td>\n",
       "      <td>0</td>\n",
       "      <td>0</td>\n",
       "      <td>3</td>\n",
       "      <td>11</td>\n",
       "      <td>0</td>\n",
       "      <td>2</td>\n",
       "    </tr>\n",
       "    <tr>\n",
       "      <th>3</th>\n",
       "      <td>6182</td>\n",
       "      <td>1984</td>\n",
       "      <td>1</td>\n",
       "      <td>Partner</td>\n",
       "      <td>26646.0</td>\n",
       "      <td>1</td>\n",
       "      <td>0</td>\n",
       "      <td>10-02-2014</td>\n",
       "      <td>26</td>\n",
       "      <td>11</td>\n",
       "      <td>...</td>\n",
       "      <td>0</td>\n",
       "      <td>0</td>\n",
       "      <td>0</td>\n",
       "      <td>0</td>\n",
       "      <td>0</td>\n",
       "      <td>0</td>\n",
       "      <td>3</td>\n",
       "      <td>11</td>\n",
       "      <td>0</td>\n",
       "      <td>3</td>\n",
       "    </tr>\n",
       "    <tr>\n",
       "      <th>4</th>\n",
       "      <td>5324</td>\n",
       "      <td>1981</td>\n",
       "      <td>3</td>\n",
       "      <td>Partner</td>\n",
       "      <td>58293.0</td>\n",
       "      <td>1</td>\n",
       "      <td>0</td>\n",
       "      <td>19-01-2014</td>\n",
       "      <td>94</td>\n",
       "      <td>173</td>\n",
       "      <td>...</td>\n",
       "      <td>0</td>\n",
       "      <td>0</td>\n",
       "      <td>0</td>\n",
       "      <td>0</td>\n",
       "      <td>0</td>\n",
       "      <td>0</td>\n",
       "      <td>3</td>\n",
       "      <td>11</td>\n",
       "      <td>0</td>\n",
       "      <td>3</td>\n",
       "    </tr>\n",
       "    <tr>\n",
       "      <th>...</th>\n",
       "      <td>...</td>\n",
       "      <td>...</td>\n",
       "      <td>...</td>\n",
       "      <td>...</td>\n",
       "      <td>...</td>\n",
       "      <td>...</td>\n",
       "      <td>...</td>\n",
       "      <td>...</td>\n",
       "      <td>...</td>\n",
       "      <td>...</td>\n",
       "      <td>...</td>\n",
       "      <td>...</td>\n",
       "      <td>...</td>\n",
       "      <td>...</td>\n",
       "      <td>...</td>\n",
       "      <td>...</td>\n",
       "      <td>...</td>\n",
       "      <td>...</td>\n",
       "      <td>...</td>\n",
       "      <td>...</td>\n",
       "      <td>...</td>\n",
       "    </tr>\n",
       "    <tr>\n",
       "      <th>2235</th>\n",
       "      <td>10870</td>\n",
       "      <td>1967</td>\n",
       "      <td>1</td>\n",
       "      <td>Partner</td>\n",
       "      <td>61223.0</td>\n",
       "      <td>0</td>\n",
       "      <td>1</td>\n",
       "      <td>13-06-2013</td>\n",
       "      <td>46</td>\n",
       "      <td>709</td>\n",
       "      <td>...</td>\n",
       "      <td>0</td>\n",
       "      <td>0</td>\n",
       "      <td>0</td>\n",
       "      <td>0</td>\n",
       "      <td>0</td>\n",
       "      <td>0</td>\n",
       "      <td>3</td>\n",
       "      <td>11</td>\n",
       "      <td>0</td>\n",
       "      <td>3</td>\n",
       "    </tr>\n",
       "    <tr>\n",
       "      <th>2236</th>\n",
       "      <td>4001</td>\n",
       "      <td>1946</td>\n",
       "      <td>3</td>\n",
       "      <td>Partner</td>\n",
       "      <td>64014.0</td>\n",
       "      <td>2</td>\n",
       "      <td>1</td>\n",
       "      <td>10-06-2014</td>\n",
       "      <td>56</td>\n",
       "      <td>406</td>\n",
       "      <td>...</td>\n",
       "      <td>0</td>\n",
       "      <td>0</td>\n",
       "      <td>0</td>\n",
       "      <td>1</td>\n",
       "      <td>0</td>\n",
       "      <td>0</td>\n",
       "      <td>3</td>\n",
       "      <td>11</td>\n",
       "      <td>0</td>\n",
       "      <td>5</td>\n",
       "    </tr>\n",
       "    <tr>\n",
       "      <th>2237</th>\n",
       "      <td>7270</td>\n",
       "      <td>1981</td>\n",
       "      <td>1</td>\n",
       "      <td>Alone</td>\n",
       "      <td>56981.0</td>\n",
       "      <td>0</td>\n",
       "      <td>0</td>\n",
       "      <td>25-01-2014</td>\n",
       "      <td>91</td>\n",
       "      <td>908</td>\n",
       "      <td>...</td>\n",
       "      <td>0</td>\n",
       "      <td>1</td>\n",
       "      <td>0</td>\n",
       "      <td>0</td>\n",
       "      <td>0</td>\n",
       "      <td>0</td>\n",
       "      <td>3</td>\n",
       "      <td>11</td>\n",
       "      <td>0</td>\n",
       "      <td>1</td>\n",
       "    </tr>\n",
       "    <tr>\n",
       "      <th>2238</th>\n",
       "      <td>8235</td>\n",
       "      <td>1956</td>\n",
       "      <td>2</td>\n",
       "      <td>Partner</td>\n",
       "      <td>69245.0</td>\n",
       "      <td>0</td>\n",
       "      <td>1</td>\n",
       "      <td>24-01-2014</td>\n",
       "      <td>8</td>\n",
       "      <td>428</td>\n",
       "      <td>...</td>\n",
       "      <td>0</td>\n",
       "      <td>0</td>\n",
       "      <td>0</td>\n",
       "      <td>0</td>\n",
       "      <td>0</td>\n",
       "      <td>0</td>\n",
       "      <td>3</td>\n",
       "      <td>11</td>\n",
       "      <td>0</td>\n",
       "      <td>3</td>\n",
       "    </tr>\n",
       "    <tr>\n",
       "      <th>2239</th>\n",
       "      <td>9405</td>\n",
       "      <td>1954</td>\n",
       "      <td>3</td>\n",
       "      <td>Partner</td>\n",
       "      <td>52869.0</td>\n",
       "      <td>1</td>\n",
       "      <td>1</td>\n",
       "      <td>15-10-2012</td>\n",
       "      <td>40</td>\n",
       "      <td>84</td>\n",
       "      <td>...</td>\n",
       "      <td>0</td>\n",
       "      <td>0</td>\n",
       "      <td>0</td>\n",
       "      <td>0</td>\n",
       "      <td>0</td>\n",
       "      <td>0</td>\n",
       "      <td>3</td>\n",
       "      <td>11</td>\n",
       "      <td>1</td>\n",
       "      <td>4</td>\n",
       "    </tr>\n",
       "  </tbody>\n",
       "</table>\n",
       "<p>2216 rows × 30 columns</p>\n",
       "</div>"
      ],
      "text/plain": [
       "         ID  Year_Birth  Education Marital_Status   Income  Kidhome  Teenhome  \\\n",
       "0      5524        1957          1          Alone  58138.0        0         0   \n",
       "1      2174        1954          1          Alone  46344.0        1         1   \n",
       "2      4141        1965          1        Partner  71613.0        0         0   \n",
       "3      6182        1984          1        Partner  26646.0        1         0   \n",
       "4      5324        1981          3        Partner  58293.0        1         0   \n",
       "...     ...         ...        ...            ...      ...      ...       ...   \n",
       "2235  10870        1967          1        Partner  61223.0        0         1   \n",
       "2236   4001        1946          3        Partner  64014.0        2         1   \n",
       "2237   7270        1981          1          Alone  56981.0        0         0   \n",
       "2238   8235        1956          2        Partner  69245.0        0         1   \n",
       "2239   9405        1954          3        Partner  52869.0        1         1   \n",
       "\n",
       "     Dt_Customer  Recency  MntWines  ...  AcceptedCmp3  AcceptedCmp4  \\\n",
       "0     04-09-2012       58       635  ...             0             0   \n",
       "1     08-03-2014       38        11  ...             0             0   \n",
       "2     21-08-2013       26       426  ...             0             0   \n",
       "3     10-02-2014       26        11  ...             0             0   \n",
       "4     19-01-2014       94       173  ...             0             0   \n",
       "...          ...      ...       ...  ...           ...           ...   \n",
       "2235  13-06-2013       46       709  ...             0             0   \n",
       "2236  10-06-2014       56       406  ...             0             0   \n",
       "2237  25-01-2014       91       908  ...             0             1   \n",
       "2238  24-01-2014        8       428  ...             0             0   \n",
       "2239  15-10-2012       40        84  ...             0             0   \n",
       "\n",
       "      AcceptedCmp5  AcceptedCmp1  AcceptedCmp2  Complain  Z_CostContact  \\\n",
       "0                0             0             0         0              3   \n",
       "1                0             0             0         0              3   \n",
       "2                0             0             0         0              3   \n",
       "3                0             0             0         0              3   \n",
       "4                0             0             0         0              3   \n",
       "...            ...           ...           ...       ...            ...   \n",
       "2235             0             0             0         0              3   \n",
       "2236             0             1             0         0              3   \n",
       "2237             0             0             0         0              3   \n",
       "2238             0             0             0         0              3   \n",
       "2239             0             0             0         0              3   \n",
       "\n",
       "      Z_Revenue  Response  Family_Size  \n",
       "0            11         1            1  \n",
       "1            11         0            3  \n",
       "2            11         0            2  \n",
       "3            11         0            3  \n",
       "4            11         0            3  \n",
       "...         ...       ...          ...  \n",
       "2235         11         0            3  \n",
       "2236         11         0            5  \n",
       "2237         11         0            1  \n",
       "2238         11         0            3  \n",
       "2239         11         1            4  \n",
       "\n",
       "[2216 rows x 30 columns]"
      ]
     },
     "execution_count": 24,
     "metadata": {},
     "output_type": "execute_result"
    }
   ],
   "source": [
    "data\n"
   ]
  },
  {
   "cell_type": "code",
   "execution_count": 25,
   "id": "0f7a6d0c",
   "metadata": {},
   "outputs": [],
   "source": [
    "data['Expenses'] =( data['MntWines'] + \n",
    "                   data['MntFruits'] + \n",
    "                   data['MntMeatProducts'] + \n",
    "                   data['MntFishProducts'] + \n",
    "                   data['MntSweetProducts'] + data['MntGoldProds'])\n"
   ]
  },
  {
   "cell_type": "code",
   "execution_count": 26,
   "id": "b0987e8c",
   "metadata": {},
   "outputs": [],
   "source": [
    "data['TotalAcceptedCmp'] = (data['AcceptedCmp1'] + \n",
    "                            data['AcceptedCmp2'] + \n",
    "                            data['AcceptedCmp3'] + \n",
    "                            data['AcceptedCmp4'] + \n",
    "                            data['AcceptedCmp5'] + \n",
    "                            data['Response'])"
   ]
  },
  {
   "cell_type": "code",
   "execution_count": 27,
   "id": "cbd54364",
   "metadata": {},
   "outputs": [],
   "source": [
    "data['NumTotalPurchases'] = (data['NumWebPurchases'] + \n",
    "                             data['NumCatalogPurchases'] + \n",
    "                             data['NumStorePurchases'] + \n",
    "                             data['NumDealsPurchases'])"
   ]
  },
  {
   "cell_type": "code",
   "execution_count": 28,
   "id": "2ccd173d",
   "metadata": {},
   "outputs": [],
   "source": [
    "data = data[data['Year_Birth']>1911]"
   ]
  },
  {
   "cell_type": "code",
   "execution_count": 29,
   "id": "79fe3254",
   "metadata": {},
   "outputs": [],
   "source": [
    "data['Age'] = 2022 - data[\"Year_Birth\"]"
   ]
  },
  {
   "cell_type": "raw",
   "id": "d9b38349",
   "metadata": {},
   "source": [
    "1、銀髮族（65歲以上）：安享天年，不希望給兒女太多負擔\n",
    "2、嬰兒潮世代（50﹣65歲）：想花錢證明自己\n",
    "3、X／Y世代（25﹣59歲）：生產主力，負擔最重\n",
    "4、Z世代（15﹣24歲）：敢花錢表現自己\n",
    "5、孩童族群（15歲以下）：備受喝護，有求必應"
   ]
  },
  {
   "cell_type": "code",
   "execution_count": 30,
   "id": "a1d92904",
   "metadata": {},
   "outputs": [],
   "source": [
    "data['Age_range'] = ''"
   ]
  },
  {
   "cell_type": "code",
   "execution_count": 31,
   "id": "214e7c1e",
   "metadata": {},
   "outputs": [],
   "source": [
    "for i in data.index:\n",
    "    if data['Age'][i] <16:\n",
    "        data['Age_range'][i] = 'Child'\n",
    "    \n",
    "    elif 16 < data['Age'][i] < 25 :\n",
    "        data['Age_range'][i] = 'Z'\n",
    "    \n",
    "    elif 25 < data['Age'][i] < 66 :\n",
    "        data['Age_range'][i] = 'X/Y'\n",
    "    \n",
    "    else:\n",
    "        data['Age_range'][i] = 'elder'"
   ]
  },
  {
   "cell_type": "code",
   "execution_count": 32,
   "id": "aab25f3f",
   "metadata": {},
   "outputs": [
    {
     "data": {
      "text/plain": [
       "Index(['ID', 'Year_Birth', 'Education', 'Marital_Status', 'Income', 'Kidhome',\n",
       "       'Teenhome', 'Dt_Customer', 'Recency', 'MntWines', 'MntFruits',\n",
       "       'MntMeatProducts', 'MntFishProducts', 'MntSweetProducts',\n",
       "       'MntGoldProds', 'NumDealsPurchases', 'NumWebPurchases',\n",
       "       'NumCatalogPurchases', 'NumStorePurchases', 'NumWebVisitsMonth',\n",
       "       'AcceptedCmp3', 'AcceptedCmp4', 'AcceptedCmp5', 'AcceptedCmp1',\n",
       "       'AcceptedCmp2', 'Complain', 'Z_CostContact', 'Z_Revenue', 'Response',\n",
       "       'Family_Size', 'Expenses', 'TotalAcceptedCmp', 'NumTotalPurchases',\n",
       "       'Age', 'Age_range'],\n",
       "      dtype='object')"
      ]
     },
     "execution_count": 32,
     "metadata": {},
     "output_type": "execute_result"
    }
   ],
   "source": [
    "data.head()\n",
    "data.columns"
   ]
  },
  {
   "cell_type": "code",
   "execution_count": 33,
   "id": "ddec3fc1",
   "metadata": {},
   "outputs": [
    {
     "data": {
      "text/plain": [
       "ID                     0\n",
       "Year_Birth             0\n",
       "Education              0\n",
       "Marital_Status         0\n",
       "Income                 0\n",
       "Kidhome                0\n",
       "Teenhome               0\n",
       "Dt_Customer            0\n",
       "Recency                0\n",
       "MntWines               0\n",
       "MntFruits              0\n",
       "MntMeatProducts        0\n",
       "MntFishProducts        0\n",
       "MntSweetProducts       0\n",
       "MntGoldProds           0\n",
       "NumDealsPurchases      0\n",
       "NumWebPurchases        0\n",
       "NumCatalogPurchases    0\n",
       "NumStorePurchases      0\n",
       "NumWebVisitsMonth      0\n",
       "AcceptedCmp3           0\n",
       "AcceptedCmp4           0\n",
       "AcceptedCmp5           0\n",
       "AcceptedCmp1           0\n",
       "AcceptedCmp2           0\n",
       "Complain               0\n",
       "Z_CostContact          0\n",
       "Z_Revenue              0\n",
       "Response               0\n",
       "Family_Size            0\n",
       "Expenses               0\n",
       "TotalAcceptedCmp       0\n",
       "NumTotalPurchases      0\n",
       "Age                    0\n",
       "Age_range              0\n",
       "dtype: int64"
      ]
     },
     "execution_count": 33,
     "metadata": {},
     "output_type": "execute_result"
    }
   ],
   "source": [
    "data.isnull().sum()"
   ]
  },
  {
   "cell_type": "code",
   "execution_count": 34,
   "id": "f68dc5c4",
   "metadata": {},
   "outputs": [
    {
     "data": {
      "text/html": [
       "<div>\n",
       "<style scoped>\n",
       "    .dataframe tbody tr th:only-of-type {\n",
       "        vertical-align: middle;\n",
       "    }\n",
       "\n",
       "    .dataframe tbody tr th {\n",
       "        vertical-align: top;\n",
       "    }\n",
       "\n",
       "    .dataframe thead th {\n",
       "        text-align: right;\n",
       "    }\n",
       "</style>\n",
       "<table border=\"1\" class=\"dataframe\">\n",
       "  <thead>\n",
       "    <tr style=\"text-align: right;\">\n",
       "      <th></th>\n",
       "      <th>ID</th>\n",
       "      <th>Year_Birth</th>\n",
       "      <th>Education</th>\n",
       "      <th>Marital_Status</th>\n",
       "      <th>Income</th>\n",
       "      <th>Kidhome</th>\n",
       "      <th>Teenhome</th>\n",
       "      <th>Dt_Customer</th>\n",
       "      <th>Recency</th>\n",
       "      <th>MntWines</th>\n",
       "      <th>...</th>\n",
       "      <th>Complain</th>\n",
       "      <th>Z_CostContact</th>\n",
       "      <th>Z_Revenue</th>\n",
       "      <th>Response</th>\n",
       "      <th>Family_Size</th>\n",
       "      <th>Expenses</th>\n",
       "      <th>TotalAcceptedCmp</th>\n",
       "      <th>NumTotalPurchases</th>\n",
       "      <th>Age</th>\n",
       "      <th>Age_range</th>\n",
       "    </tr>\n",
       "  </thead>\n",
       "  <tbody>\n",
       "    <tr>\n",
       "      <th>0</th>\n",
       "      <td>5524</td>\n",
       "      <td>1957</td>\n",
       "      <td>1</td>\n",
       "      <td>Alone</td>\n",
       "      <td>58138.0</td>\n",
       "      <td>0</td>\n",
       "      <td>0</td>\n",
       "      <td>04-09-2012</td>\n",
       "      <td>58</td>\n",
       "      <td>635</td>\n",
       "      <td>...</td>\n",
       "      <td>0</td>\n",
       "      <td>3</td>\n",
       "      <td>11</td>\n",
       "      <td>1</td>\n",
       "      <td>1</td>\n",
       "      <td>1617</td>\n",
       "      <td>1</td>\n",
       "      <td>25</td>\n",
       "      <td>65</td>\n",
       "      <td>X/Y</td>\n",
       "    </tr>\n",
       "    <tr>\n",
       "      <th>1</th>\n",
       "      <td>2174</td>\n",
       "      <td>1954</td>\n",
       "      <td>1</td>\n",
       "      <td>Alone</td>\n",
       "      <td>46344.0</td>\n",
       "      <td>1</td>\n",
       "      <td>1</td>\n",
       "      <td>08-03-2014</td>\n",
       "      <td>38</td>\n",
       "      <td>11</td>\n",
       "      <td>...</td>\n",
       "      <td>0</td>\n",
       "      <td>3</td>\n",
       "      <td>11</td>\n",
       "      <td>0</td>\n",
       "      <td>3</td>\n",
       "      <td>27</td>\n",
       "      <td>0</td>\n",
       "      <td>6</td>\n",
       "      <td>68</td>\n",
       "      <td>elder</td>\n",
       "    </tr>\n",
       "    <tr>\n",
       "      <th>2</th>\n",
       "      <td>4141</td>\n",
       "      <td>1965</td>\n",
       "      <td>1</td>\n",
       "      <td>Partner</td>\n",
       "      <td>71613.0</td>\n",
       "      <td>0</td>\n",
       "      <td>0</td>\n",
       "      <td>21-08-2013</td>\n",
       "      <td>26</td>\n",
       "      <td>426</td>\n",
       "      <td>...</td>\n",
       "      <td>0</td>\n",
       "      <td>3</td>\n",
       "      <td>11</td>\n",
       "      <td>0</td>\n",
       "      <td>2</td>\n",
       "      <td>776</td>\n",
       "      <td>0</td>\n",
       "      <td>21</td>\n",
       "      <td>57</td>\n",
       "      <td>X/Y</td>\n",
       "    </tr>\n",
       "    <tr>\n",
       "      <th>3</th>\n",
       "      <td>6182</td>\n",
       "      <td>1984</td>\n",
       "      <td>1</td>\n",
       "      <td>Partner</td>\n",
       "      <td>26646.0</td>\n",
       "      <td>1</td>\n",
       "      <td>0</td>\n",
       "      <td>10-02-2014</td>\n",
       "      <td>26</td>\n",
       "      <td>11</td>\n",
       "      <td>...</td>\n",
       "      <td>0</td>\n",
       "      <td>3</td>\n",
       "      <td>11</td>\n",
       "      <td>0</td>\n",
       "      <td>3</td>\n",
       "      <td>53</td>\n",
       "      <td>0</td>\n",
       "      <td>8</td>\n",
       "      <td>38</td>\n",
       "      <td>X/Y</td>\n",
       "    </tr>\n",
       "  </tbody>\n",
       "</table>\n",
       "<p>4 rows × 35 columns</p>\n",
       "</div>"
      ],
      "text/plain": [
       "     ID  Year_Birth  Education Marital_Status   Income  Kidhome  Teenhome  \\\n",
       "0  5524        1957          1          Alone  58138.0        0         0   \n",
       "1  2174        1954          1          Alone  46344.0        1         1   \n",
       "2  4141        1965          1        Partner  71613.0        0         0   \n",
       "3  6182        1984          1        Partner  26646.0        1         0   \n",
       "\n",
       "  Dt_Customer  Recency  MntWines  ...  Complain  Z_CostContact  Z_Revenue  \\\n",
       "0  04-09-2012       58       635  ...         0              3         11   \n",
       "1  08-03-2014       38        11  ...         0              3         11   \n",
       "2  21-08-2013       26       426  ...         0              3         11   \n",
       "3  10-02-2014       26        11  ...         0              3         11   \n",
       "\n",
       "   Response  Family_Size  Expenses  TotalAcceptedCmp  NumTotalPurchases  Age  \\\n",
       "0         1            1      1617                 1                 25   65   \n",
       "1         0            3        27                 0                  6   68   \n",
       "2         0            2       776                 0                 21   57   \n",
       "3         0            3        53                 0                  8   38   \n",
       "\n",
       "   Age_range  \n",
       "0        X/Y  \n",
       "1      elder  \n",
       "2        X/Y  \n",
       "3        X/Y  \n",
       "\n",
       "[4 rows x 35 columns]"
      ]
     },
     "execution_count": 34,
     "metadata": {},
     "output_type": "execute_result"
    }
   ],
   "source": [
    "data.head(4)"
   ]
  },
  {
   "cell_type": "markdown",
   "id": "24d8de27",
   "metadata": {},
   "source": [
    "# 特征提取"
   ]
  },
  {
   "cell_type": "code",
   "execution_count": 35,
   "id": "464f31a6",
   "metadata": {},
   "outputs": [],
   "source": [
    "import sklearn.preprocessing as sp"
   ]
  },
  {
   "cell_type": "code",
   "execution_count": 36,
   "id": "de49fc04",
   "metadata": {},
   "outputs": [],
   "source": [
    "data = data.loc[:,('Marital_Status', 'Education','Family_Size', \n",
    "                   'TotalAcceptedCmp','NumTotalPurchases', \n",
    "                   'Age_range', 'Expenses')]"
   ]
  },
  {
   "cell_type": "code",
   "execution_count": 37,
   "id": "2332deee",
   "metadata": {},
   "outputs": [],
   "source": [
    "train_data = pd.DataFrame()\n",
    "encoders = {} #保存每列的标签编码器\n",
    "\n",
    "for i in data: #i:列名\n",
    "    encoder = sp.LabelEncoder()\n",
    "    res = encoder.fit_transform(data[i])\n",
    "    train_data[i] = res\n",
    "    encoders[i] = encoder"
   ]
  },
  {
   "cell_type": "code",
   "execution_count": 38,
   "id": "15ac92cf",
   "metadata": {
    "scrolled": true
   },
   "outputs": [
    {
     "data": {
      "text/html": [
       "<div>\n",
       "<style scoped>\n",
       "    .dataframe tbody tr th:only-of-type {\n",
       "        vertical-align: middle;\n",
       "    }\n",
       "\n",
       "    .dataframe tbody tr th {\n",
       "        vertical-align: top;\n",
       "    }\n",
       "\n",
       "    .dataframe thead th {\n",
       "        text-align: right;\n",
       "    }\n",
       "</style>\n",
       "<table border=\"1\" class=\"dataframe\">\n",
       "  <thead>\n",
       "    <tr style=\"text-align: right;\">\n",
       "      <th></th>\n",
       "      <th>Marital_Status</th>\n",
       "      <th>Education</th>\n",
       "      <th>Family_Size</th>\n",
       "      <th>TotalAcceptedCmp</th>\n",
       "      <th>NumTotalPurchases</th>\n",
       "      <th>Age_range</th>\n",
       "      <th>Expenses</th>\n",
       "    </tr>\n",
       "  </thead>\n",
       "  <tbody>\n",
       "    <tr>\n",
       "      <th>0</th>\n",
       "      <td>0</td>\n",
       "      <td>1</td>\n",
       "      <td>0</td>\n",
       "      <td>1</td>\n",
       "      <td>24</td>\n",
       "      <td>0</td>\n",
       "      <td>901</td>\n",
       "    </tr>\n",
       "    <tr>\n",
       "      <th>1</th>\n",
       "      <td>0</td>\n",
       "      <td>1</td>\n",
       "      <td>2</td>\n",
       "      <td>0</td>\n",
       "      <td>5</td>\n",
       "      <td>1</td>\n",
       "      <td>21</td>\n",
       "    </tr>\n",
       "    <tr>\n",
       "      <th>2</th>\n",
       "      <td>1</td>\n",
       "      <td>1</td>\n",
       "      <td>1</td>\n",
       "      <td>0</td>\n",
       "      <td>20</td>\n",
       "      <td>0</td>\n",
       "      <td>499</td>\n",
       "    </tr>\n",
       "    <tr>\n",
       "      <th>3</th>\n",
       "      <td>1</td>\n",
       "      <td>1</td>\n",
       "      <td>2</td>\n",
       "      <td>0</td>\n",
       "      <td>7</td>\n",
       "      <td>0</td>\n",
       "      <td>47</td>\n",
       "    </tr>\n",
       "    <tr>\n",
       "      <th>4</th>\n",
       "      <td>1</td>\n",
       "      <td>3</td>\n",
       "      <td>2</td>\n",
       "      <td>0</td>\n",
       "      <td>18</td>\n",
       "      <td>0</td>\n",
       "      <td>318</td>\n",
       "    </tr>\n",
       "  </tbody>\n",
       "</table>\n",
       "</div>"
      ],
      "text/plain": [
       "   Marital_Status  Education  Family_Size  TotalAcceptedCmp  \\\n",
       "0               0          1            0                 1   \n",
       "1               0          1            2                 0   \n",
       "2               1          1            1                 0   \n",
       "3               1          1            2                 0   \n",
       "4               1          3            2                 0   \n",
       "\n",
       "   NumTotalPurchases  Age_range  Expenses  \n",
       "0                 24          0       901  \n",
       "1                  5          1        21  \n",
       "2                 20          0       499  \n",
       "3                  7          0        47  \n",
       "4                 18          0       318  "
      ]
     },
     "execution_count": 38,
     "metadata": {},
     "output_type": "execute_result"
    }
   ],
   "source": [
    "train_data.head()"
   ]
  },
  {
   "cell_type": "markdown",
   "id": "14b68ca3",
   "metadata": {},
   "source": [
    "# 選出特徵資料"
   ]
  },
  {
   "cell_type": "code",
   "execution_count": 39,
   "id": "d78c9c32",
   "metadata": {
    "scrolled": false
   },
   "outputs": [
    {
     "data": {
      "text/plain": [
       "Index(['Marital_Status', 'Education', 'Family_Size', 'TotalAcceptedCmp',\n",
       "       'NumTotalPurchases', 'Age_range', 'Expenses'],\n",
       "      dtype='object')"
      ]
     },
     "execution_count": 39,
     "metadata": {},
     "output_type": "execute_result"
    }
   ],
   "source": [
    "data.columns"
   ]
  },
  {
   "cell_type": "code",
   "execution_count": 40,
   "id": "18d40a50",
   "metadata": {},
   "outputs": [],
   "source": [
    "data_2 = train_data.loc[:,('Marital_Status', 'Education','Family_Size',\n",
    "                           'TotalAcceptedCmp','NumTotalPurchases', \n",
    "                           'Age_range', 'Expenses')]"
   ]
  },
  {
   "cell_type": "code",
   "execution_count": 41,
   "id": "a51422b2",
   "metadata": {},
   "outputs": [
    {
     "data": {
      "text/plain": [
       "Marital_Status       int64\n",
       "Education            int64\n",
       "Family_Size          int64\n",
       "TotalAcceptedCmp     int64\n",
       "NumTotalPurchases    int64\n",
       "Age_range            int64\n",
       "Expenses             int64\n",
       "dtype: object"
      ]
     },
     "execution_count": 41,
     "metadata": {},
     "output_type": "execute_result"
    }
   ],
   "source": [
    "data_2.dtypes"
   ]
  },
  {
   "cell_type": "code",
   "execution_count": 42,
   "id": "a3396fb1",
   "metadata": {
    "scrolled": false
   },
   "outputs": [
    {
     "data": {
      "text/html": [
       "<div>\n",
       "<style scoped>\n",
       "    .dataframe tbody tr th:only-of-type {\n",
       "        vertical-align: middle;\n",
       "    }\n",
       "\n",
       "    .dataframe tbody tr th {\n",
       "        vertical-align: top;\n",
       "    }\n",
       "\n",
       "    .dataframe thead th {\n",
       "        text-align: right;\n",
       "    }\n",
       "</style>\n",
       "<table border=\"1\" class=\"dataframe\">\n",
       "  <thead>\n",
       "    <tr style=\"text-align: right;\">\n",
       "      <th></th>\n",
       "      <th>Marital_Status</th>\n",
       "      <th>Education</th>\n",
       "      <th>Family_Size</th>\n",
       "      <th>TotalAcceptedCmp</th>\n",
       "      <th>NumTotalPurchases</th>\n",
       "      <th>Age_range</th>\n",
       "      <th>Expenses</th>\n",
       "    </tr>\n",
       "  </thead>\n",
       "  <tbody>\n",
       "    <tr>\n",
       "      <th>0</th>\n",
       "      <td>0</td>\n",
       "      <td>1</td>\n",
       "      <td>0</td>\n",
       "      <td>1</td>\n",
       "      <td>24</td>\n",
       "      <td>0</td>\n",
       "      <td>901</td>\n",
       "    </tr>\n",
       "    <tr>\n",
       "      <th>1</th>\n",
       "      <td>0</td>\n",
       "      <td>1</td>\n",
       "      <td>2</td>\n",
       "      <td>0</td>\n",
       "      <td>5</td>\n",
       "      <td>1</td>\n",
       "      <td>21</td>\n",
       "    </tr>\n",
       "    <tr>\n",
       "      <th>2</th>\n",
       "      <td>1</td>\n",
       "      <td>1</td>\n",
       "      <td>1</td>\n",
       "      <td>0</td>\n",
       "      <td>20</td>\n",
       "      <td>0</td>\n",
       "      <td>499</td>\n",
       "    </tr>\n",
       "    <tr>\n",
       "      <th>3</th>\n",
       "      <td>1</td>\n",
       "      <td>1</td>\n",
       "      <td>2</td>\n",
       "      <td>0</td>\n",
       "      <td>7</td>\n",
       "      <td>0</td>\n",
       "      <td>47</td>\n",
       "    </tr>\n",
       "    <tr>\n",
       "      <th>4</th>\n",
       "      <td>1</td>\n",
       "      <td>3</td>\n",
       "      <td>2</td>\n",
       "      <td>0</td>\n",
       "      <td>18</td>\n",
       "      <td>0</td>\n",
       "      <td>318</td>\n",
       "    </tr>\n",
       "  </tbody>\n",
       "</table>\n",
       "</div>"
      ],
      "text/plain": [
       "   Marital_Status  Education  Family_Size  TotalAcceptedCmp  \\\n",
       "0               0          1            0                 1   \n",
       "1               0          1            2                 0   \n",
       "2               1          1            1                 0   \n",
       "3               1          1            2                 0   \n",
       "4               1          3            2                 0   \n",
       "\n",
       "   NumTotalPurchases  Age_range  Expenses  \n",
       "0                 24          0       901  \n",
       "1                  5          1        21  \n",
       "2                 20          0       499  \n",
       "3                  7          0        47  \n",
       "4                 18          0       318  "
      ]
     },
     "execution_count": 42,
     "metadata": {},
     "output_type": "execute_result"
    }
   ],
   "source": [
    "data_2.head()"
   ]
  },
  {
   "cell_type": "code",
   "execution_count": null,
   "id": "29cde49f",
   "metadata": {},
   "outputs": [],
   "source": []
  },
  {
   "cell_type": "markdown",
   "id": "51755633",
   "metadata": {},
   "source": [
    "#  訓練"
   ]
  },
  {
   "cell_type": "code",
   "execution_count": 66,
   "id": "f163e4c3",
   "metadata": {},
   "outputs": [],
   "source": [
    "import sklearn.utils as su\n",
    "import sklearn.tree as st\n",
    "import sklearn.ensemble as se\n",
    "import sklearn.metrics as sm\n",
    "import sklearn.svm as svm\n",
    "import sklearn.model_selection as ms"
   ]
  },
  {
   "cell_type": "markdown",
   "id": "0a63ce37",
   "metadata": {},
   "source": [
    "# 隨機森林模型"
   ]
  },
  {
   "cell_type": "code",
   "execution_count": 59,
   "id": "b3f33b5d",
   "metadata": {},
   "outputs": [],
   "source": [
    "random_seed = 7  # 隨機種子，計算隨機值，相同的隨機種子得到的隨機值一樣\n",
    "x, y = su.shuffle( data_2.iloc[:,:-1], \n",
    "                   data_2.iloc[:,-1], random_state = random_seed)\n",
    "# 計算訓練數據的數量\n",
    "train_size = int(len(x) * 0.9) # 以data中80%的數據作為訓練數據\n",
    "# 構建訓練數據、測試數據\n",
    "train_x = x[:train_size]  # 訓練輸入, x前面80%的數據\n",
    "test_x = x[train_size:]   # 測試輸入, x後面20%的數據\n",
    "train_y = y[:train_size]  # 訓練輸出\n",
    "test_y = y[train_size:]   # 測試輸出"
   ]
  },
  {
   "cell_type": "code",
   "execution_count": 60,
   "id": "da298f17",
   "metadata": {},
   "outputs": [
    {
     "name": "stdout",
     "output_type": "stream",
     "text": [
      "訓練集: 0.8684462303446652\n",
      "測試集: 0.817540781305145\n"
     ]
    }
   ],
   "source": [
    "# 創建隨機森林回歸器，並進行訓練\n",
    "model = se.RandomForestRegressor(max_depth=6,  # 最大深度\n",
    "                                 n_estimators=400,  # 樹數量\n",
    "                                 min_samples_split=5)  # 最小樣本數量，小於該數就不再劃分子節點\n",
    "model.fit(train_x, train_y)  # 訓練\n",
    "\n",
    "pred_test_y = model.predict(test_x)\n",
    "pred_train_y = model.predict(train_x)\n",
    "\n",
    "print('訓練集:',sm.r2_score(train_y,pred_train_y))\n",
    "print('測試集:',sm.r2_score(test_y,pred_test_y))"
   ]
  },
  {
   "cell_type": "markdown",
   "id": "77687cb4",
   "metadata": {},
   "source": [
    "# Ada Boost"
   ]
  },
  {
   "cell_type": "code",
   "execution_count": 62,
   "id": "94b34ca1",
   "metadata": {},
   "outputs": [],
   "source": [
    "random_seed = 7  # 隨機種子，計算隨機值，相同的隨機種子得到的隨機值一樣\n",
    "x, y = su.shuffle( data_2.iloc[:,:-1], \n",
    "                   data_2.iloc[:,-1], random_state = random_seed)\n",
    "# 計算訓練數據的數量\n",
    "train_size = int(len(x) * 0.9) # 以data中80%的數據作為訓練數據\n",
    "# 構建訓練數據、測試數據\n",
    "train_x = x[:train_size]  # 訓練輸入, x前面80%的數據\n",
    "test_x = x[train_size:]   # 測試輸入, x後面20%的數據\n",
    "train_y = y[:train_size]  # 訓練輸出\n",
    "test_y = y[train_size:]   # 測試輸出"
   ]
  },
  {
   "cell_type": "code",
   "execution_count": 63,
   "id": "fa44470f",
   "metadata": {},
   "outputs": [
    {
     "name": "stdout",
     "output_type": "stream",
     "text": [
      "訓練集: 0.7259533983291162\n",
      "測試集: 0.7034880450825003\n"
     ]
    }
   ],
   "source": [
    "model = st.DecisionTreeRegressor(max_depth=5)\n",
    "model = se.AdaBoostRegressor(model,n_estimators=400,random_state=7)\n",
    "\n",
    "model.fit(train_x,train_y)\n",
    "pred_test_y = model.predict(test_x)\n",
    "pred_train_y = model.predict(train_x)\n",
    "\n",
    "print('訓練集:',sm.r2_score(train_y,pred_train_y))\n",
    "print('測試集:',sm.r2_score(test_y,pred_test_y))"
   ]
  },
  {
   "cell_type": "markdown",
   "id": "102590a5",
   "metadata": {},
   "source": [
    "# GBDT\n"
   ]
  },
  {
   "cell_type": "code",
   "execution_count": 64,
   "id": "6b143d90",
   "metadata": {},
   "outputs": [],
   "source": [
    "random_seed = 7  # 隨機種子，計算隨機值，相同的隨機種子得到的隨機值一樣\n",
    "x, y = su.shuffle( data_2.iloc[:,:-1], \n",
    "                   data_2.iloc[:,-1], random_state = random_seed)\n",
    "# 計算訓練數據的數量\n",
    "train_size = int(len(x) * 0.9) # 以data中80%的數據作為訓練數據\n",
    "# 構建訓練數據、測試數據\n",
    "train_x = x[:train_size]  # 訓練輸入, x前面80%的數據\n",
    "test_x = x[train_size:]   # 測試輸入, x後面20%的數據\n",
    "train_y = y[:train_size]  # 訓練輸出\n",
    "test_y = y[train_size:]   # 測試輸出"
   ]
  },
  {
   "cell_type": "code",
   "execution_count": 65,
   "id": "248a65fc",
   "metadata": {},
   "outputs": [
    {
     "name": "stdout",
     "output_type": "stream",
     "text": [
      "訓練集: 0.880583317976972\n",
      "測試集: 0.8325036445147893\n"
     ]
    }
   ],
   "source": [
    "model = se.GradientBoostingRegressor(max_depth=3,n_estimators=400,min_samples_split=3)\n",
    "\n",
    "model.fit(train_x,train_y)\n",
    "\n",
    "pred_test_y = model.predict(test_x)\n",
    "pred_train_y = model.predict(train_x)\n",
    "\n",
    "print('訓練集:',sm.r2_score(train_y,pred_train_y))\n",
    "print('測試集:',sm.r2_score(test_y,pred_test_y))"
   ]
  },
  {
   "cell_type": "markdown",
   "id": "69c6cb45",
   "metadata": {},
   "source": [
    "# 決策樹"
   ]
  },
  {
   "cell_type": "code",
   "execution_count": 67,
   "id": "c5fe7551",
   "metadata": {},
   "outputs": [],
   "source": [
    "random_seed = 7  # 隨機種子，計算隨機值，相同的隨機種子得到的隨機值一樣\n",
    "x, y = su.shuffle( data_2.iloc[:,:-1], \n",
    "                   data_2.iloc[:,-1], random_state = random_seed)\n",
    "# 計算訓練數據的數量\n",
    "train_size = int(len(x) * 0.8) # 以boston.data中80%的數據作為訓練數據\n",
    "# 構建訓練數據、測試數據\n",
    "train_x = x[:train_size]  # 訓練輸入, x前面80%的數據\n",
    "test_x = x[train_size:]   # 測試輸入, x後面20%的數據\n",
    "train_y = y[:train_size]  # 訓練輸出\n",
    "test_y = y[train_size:]   # 測試輸出"
   ]
  },
  {
   "cell_type": "code",
   "execution_count": 69,
   "id": "c7269b9c",
   "metadata": {},
   "outputs": [
    {
     "name": "stdout",
     "output_type": "stream",
     "text": [
      "訓練集: 0.8972524410186812\n",
      "測試集: 0.7862639368846533\n"
     ]
    }
   ],
   "source": [
    "# 構建模型\n",
    "model = st.DecisionTreeRegressor(max_depth=8)\n",
    "#訓練模型(訓練數據)\n",
    "model.fit(train_x,train_y)\n",
    "#執行預測\n",
    "pred_test_y = model.predict(test_x)\n",
    "pred_train_y = model.predict(train_x)\n",
    "#評估\n",
    "print('訓練集:',sm.r2_score(train_y,pred_train_y))\n",
    "print('測試集:',sm.r2_score(test_y,pred_test_y))"
   ]
  },
  {
   "cell_type": "markdown",
   "id": "cbc35eca",
   "metadata": {},
   "source": [
    "# 學習曲線"
   ]
  },
  {
   "cell_type": "code",
   "execution_count": 71,
   "id": "17516758",
   "metadata": {},
   "outputs": [
    {
     "name": "stdout",
     "output_type": "stream",
     "text": [
      "[0.68356201 0.73094901 0.75860784 0.77026269 0.77392996 0.78430098\n",
      " 0.7850193  0.79745546 0.80702893 0.80960704]\n"
     ]
    },
    {
     "data": {
      "text/plain": [
       "[<matplotlib.lines.Line2D at 0x7f7e311e00d0>]"
      ]
     },
     "execution_count": 71,
     "metadata": {},
     "output_type": "execute_result"
    },
    {
     "data": {
      "image/png": "[encoded data removed]",
      "text/plain": [
       "<Figure size 432x288 with 1 Axes>"
      ]
     },
     "metadata": {
      "needs_background": "light"
     },
     "output_type": "display_data"
    }
   ],
   "source": [
    "params = np.arange(0.1,1.1,0.1)\n",
    "train_size, train_score, test_score = ms.learning_curve(model,\n",
    "                                                        x,y,\n",
    "                                                        train_sizes= params,\n",
    "                                                        cv=5)\n",
    "\n",
    "print(test_score.mean(axis=1))\n",
    "plt.plot(params,test_score.mean(axis=1),'o-')\n"
   ]
  },
  {
   "cell_type": "code",
   "execution_count": 72,
   "id": "13adc03d",
   "metadata": {},
   "outputs": [
    {
     "name": "stdout",
     "output_type": "stream",
     "text": [
      "fi: [0.02258381 0.00782661 0.10839544 0.04373544 0.81471369 0.00274501]\n"
     ]
    },
    {
     "data": {
      "image/png": "[encoded data removed]",
      "text/plain": [
       "<Figure size 432x288 with 1 Axes>"
      ]
     },
     "metadata": {},
     "output_type": "display_data"
    }
   ],
   "source": [
    "fi = model.feature_importances_  # 獲取特徵重要性\n",
    "print(\"fi:\", fi)\n",
    "\n",
    "\n",
    "sorted_idx = fi.argsort()[::-1]  # 重要性排序(倒序)\n",
    "fi = fi[sorted_idx]  # 根據排序索引重新排特徵值\n",
    "# 特徵重要性可視化\n",
    "plt.figure(\"Feature importances\", facecolor=\"lightgray\")\n",
    "plt.plot()\n",
    "plt.title(\"DT Feature\", fontsize=16)\n",
    "plt.ylabel(\"Feature importances\", fontsize=14)\n",
    "# plt.grid(linestyle=\":\", axis=1)\n",
    "xx = np.arange(fi.size)\n",
    "sorted_idx = fi.argsort()[::-1]  # 重要性排序(倒序)\n",
    "fi = fi[sorted_idx]  # 根據排序索引重新排特徵值\n",
    "plt.xticks(xx, data_2.iloc[:,:-1].columns[sorted_idx])\n",
    "plt.bar(xx, fi, 0.4, color=\"dodgerblue\", label=\"DT Feature importances\")\n",
    "\n",
    "\n",
    "plt.legend()\n",
    "plt.tight_layout()\n",
    "plt.show()"
   ]
  },
  {
   "cell_type": "code",
   "execution_count": null,
   "id": "5a0b4f94",
   "metadata": {},
   "outputs": [],
   "source": []
  },
  {
   "cell_type": "markdown",
   "id": "ff6c2c8e",
   "metadata": {},
   "source": [
    "# 驗證曲線"
   ]
  },
  {
   "cell_type": "code",
   "execution_count": 74,
   "id": "76283544",
   "metadata": {},
   "outputs": [],
   "source": [
    "data_curve = np.array(data_2).T  # 轉置\n",
    "encoders, train_x = [], []\n"
   ]
  },
  {
   "cell_type": "code",
   "execution_count": 75,
   "id": "c845e6a9",
   "metadata": {},
   "outputs": [],
   "source": [
    "# 對樣本數據進行標籤編碼\n",
    "for row in range(len(data_curve)):\n",
    "    encoder = sp.LabelEncoder()  # 創建標籤編碼器\n",
    "    encoders.append(encoder)\n",
    "    if row < len(data_curve) - 1:  # 不是最後一行，為樣本特徵\n",
    "        lbl_code = encoder.fit_transform(data_curve[row])  # 編碼\n",
    "        train_x.append(lbl_code)\n",
    "    else:  # 最後一行，為樣本輸出\n",
    "        train_y = encoder.fit_transform(data_curve[row])\n",
    "\n",
    "train_x = np.array(train_x).T  # 轉置回來，變為編碼後的矩陣\n"
   ]
  },
  {
   "cell_type": "code",
   "execution_count": 76,
   "id": "a9466108",
   "metadata": {},
   "outputs": [
    {
     "name": "stdout",
     "output_type": "stream",
     "text": [
      "[[ 0  1  0  1 24  0]\n",
      " [ 0  1  2  0  5  1]\n",
      " [ 1  1  1  0 20  0]\n",
      " ...\n",
      " [ 0  1  0  1 18  0]\n",
      " [ 1  2  2  0 22  1]\n",
      " [ 1  3  3  1 10  1]]\n",
      "[901  21 499 ... 754 533 152]\n"
     ]
    }
   ],
   "source": [
    "print(train_x)\n",
    "\n",
    "print(train_y)"
   ]
  },
  {
   "cell_type": "code",
   "execution_count": 77,
   "id": "b53ff4df",
   "metadata": {},
   "outputs": [
    {
     "name": "stdout",
     "output_type": "stream",
     "text": [
      "n_estimators.shape: (10,)\n",
      "n_estimators: [ 50 100 150 200 250 300 350 400 450 500]\n"
     ]
    }
   ],
   "source": [
    "model = se.RandomForestClassifier(max_depth=8,  # 最大樹高\n",
    "                                  random_state=7)  # 隨機種子\n",
    "# 調用validation_curve，返回訓練集、測試集得分矩陣\n",
    "n_estimators = np.arange(50, 550, 50)  # 超參數值表\n",
    "print(\"n_estimators.shape:\", n_estimators.shape)\n",
    "print(\"n_estimators:\", n_estimators)"
   ]
  },
  {
   "cell_type": "code",
   "execution_count": 78,
   "id": "2131b23f",
   "metadata": {},
   "outputs": [],
   "source": [
    "# 通過不同參數，構建多棵決策樹，驗證其準確性\n",
    "train_scores1, test_scores1 = ms.validation_curve(model,  # 模型\n",
    "                                                  train_x, train_y,\n",
    "                                                  'n_estimators',  # 模型參數名稱\n",
    "                                                  n_estimators,  # 模型參數值\n",
    "                                                  cv=4)"
   ]
  },
  {
   "cell_type": "code",
   "execution_count": 79,
   "id": "34cae9cd",
   "metadata": {},
   "outputs": [
    {
     "name": "stdout",
     "output_type": "stream",
     "text": [
      "train_mean: [0.44449616 0.4744703  0.48139856 0.48471145 0.48546446 0.48817549\n",
      " 0.48907928 0.48998253 0.49088588 0.49058467]\n",
      "test_mean: [0.07682333 0.08676419 0.08134086 0.08314918 0.082702   0.08179621\n",
      " 0.08315245 0.08089287 0.08134576 0.08179539]\n"
     ]
    }
   ],
   "source": [
    "train_mean = train_scores1.mean(axis=1)\n",
    "print(\"train_mean:\", train_mean)\n",
    "test_mean = test_scores1.mean(axis=1)\n",
    "print(\"test_mean:\", test_mean)\n",
    "\n",
    "\n"
   ]
  },
  {
   "cell_type": "code",
   "execution_count": 80,
   "id": "d618b5b6",
   "metadata": {},
   "outputs": [
    {
     "data": {
      "image/png": "[encoded data removed]",
      "text/plain": [
       "<Figure size 432x288 with 1 Axes>"
      ]
     },
     "metadata": {},
     "output_type": "display_data"
    }
   ],
   "source": [
    "# 可視化\n",
    "plt.figure('n_estimators', facecolor='lightgray')\n",
    "plt.title('n_estimators', fontsize=20)\n",
    "plt.xlabel('n_estimators', fontsize=14)\n",
    "plt.ylabel('F1 Score', fontsize=14)\n",
    "plt.tick_params(labelsize=10)\n",
    "plt.grid(linestyle=':')\n",
    "plt.plot(n_estimators, test_mean, \n",
    "         'o-', \n",
    "         c='blue', \n",
    "         label='Testing')\n",
    "plt.legend()\n",
    "plt.show()"
   ]
  },
  {
   "cell_type": "code",
   "execution_count": 81,
   "id": "59136f6c",
   "metadata": {},
   "outputs": [],
   "source": [
    "# 網格搜索"
   ]
  },
  {
   "cell_type": "code",
   "execution_count": 82,
   "id": "46cb6f74",
   "metadata": {},
   "outputs": [],
   "source": [
    "x = np.array(x)\n",
    "y = np.array(y, dtype=int)"
   ]
  },
  {
   "cell_type": "code",
   "execution_count": 83,
   "id": "4ea824fc",
   "metadata": {},
   "outputs": [],
   "source": [
    "# 通過網格搜索確定最優參數組合\n",
    "# 定義參數字典\n",
    "params = [\n",
    "    {\"kernel\": [\"linear\"],\n",
    "     \"C\": [1,5,10,50, 100, 1000]\n",
    "     },\n",
    "    {\"kernel\": [\"poly\"],\n",
    "     \"C\": [1],\n",
    "     \"degree\": [2, 3]\n",
    "     },\n",
    "    {\"kernel\": [\"rbf\"],\n",
    "     \"C\": [1,5,10,50,100, 1000],\n",
    "     \"gamma\": [1, 0.1, 0.01, 0.001]\n",
    "     }\n",
    "]"
   ]
  },
  {
   "cell_type": "code",
   "execution_count": 84,
   "id": "e8732af3",
   "metadata": {},
   "outputs": [],
   "source": [
    "# 通過網格搜索確定最優參數組合\n",
    "# 定義參數字典\n",
    "params = [\n",
    "    {\"kernel\": [\"linear\"],\n",
    "     \"C\": [1,5,10,20,30,50,100,120,140,150]\n",
    "     },\n",
    "    {\"kernel\": [\"poly\"],\n",
    "     \"C\": [1],\n",
    "     \"degree\": [2, 3]\n",
    "     },\n",
    "    {\"kernel\": [\"rbf\"],\n",
    "     \"C\": [1,5,10,20,30,50,100,120,140,150],\n",
    "     \"gamma\": [1,0.1, 0.01,0.001]\n",
    "     }\n",
    "]"
   ]
  },
  {
   "cell_type": "code",
   "execution_count": 85,
   "id": "84c594a3",
   "metadata": {},
   "outputs": [],
   "source": [
    "model = ms.GridSearchCV(svm.SVC(),params,cv=6)\n",
    "model.fit(x,y)\n",
    "pred_test_y = model.predict(test_x)\n",
    "# print(sm.classification_report(test_y,pred_test_y))"
   ]
  },
  {
   "cell_type": "code",
   "execution_count": 86,
   "id": "d664897d",
   "metadata": {},
   "outputs": [
    {
     "data": {
      "text/plain": [
       "{'C': 100, 'gamma': 0.1, 'kernel': 'rbf'}"
      ]
     },
     "execution_count": 86,
     "metadata": {},
     "output_type": "execute_result"
    }
   ],
   "source": [
    "model.best_params_"
   ]
  },
  {
   "cell_type": "code",
   "execution_count": 87,
   "id": "feae55a1",
   "metadata": {},
   "outputs": [
    {
     "data": {
      "text/plain": [
       "0.10484294607438828"
      ]
     },
     "execution_count": 87,
     "metadata": {},
     "output_type": "execute_result"
    }
   ],
   "source": [
    "model.best_score_"
   ]
  },
  {
   "cell_type": "code",
   "execution_count": null,
   "id": "f070cdac",
   "metadata": {},
   "outputs": [],
   "source": []
  },
  {
   "cell_type": "code",
   "execution_count": null,
   "id": "3b9e3070",
   "metadata": {},
   "outputs": [],
   "source": []
  },
  {
   "cell_type": "code",
   "execution_count": null,
   "id": "5eb0d2a1",
   "metadata": {},
   "outputs": [],
   "source": []
  },
  {
   "cell_type": "code",
   "execution_count": null,
   "id": "97d97a8d",
   "metadata": {},
   "outputs": [],
   "source": []
  },
  {
   "cell_type": "code",
   "execution_count": null,
   "id": "4e671b53",
   "metadata": {},
   "outputs": [],
   "source": []
  },
  {
   "cell_type": "code",
   "execution_count": null,
   "id": "873dc189",
   "metadata": {},
   "outputs": [],
   "source": []
  }
 ],
 "metadata": {
  "kernelspec": {
   "display_name": "Python 3",
   "language": "python",
   "name": "python3"
  },
  "language_info": {
   "codemirror_mode": {
    "name": "ipython",
    "version": 3
   },
   "file_extension": ".py",
   "mimetype": "text/x-python",
   "name": "python",
   "nbconvert_exporter": "python",
   "pygments_lexer": "ipython3",
   "version": "3.8.8"
  }
 },
 "nbformat": 4,
 "nbformat_minor": 5
}
